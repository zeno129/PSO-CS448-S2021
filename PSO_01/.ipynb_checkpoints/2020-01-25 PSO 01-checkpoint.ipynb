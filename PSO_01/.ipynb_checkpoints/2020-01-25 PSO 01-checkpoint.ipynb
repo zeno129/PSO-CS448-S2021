{
 "cells": [
  {
   "cell_type": "markdown",
   "id": "second-appreciation",
   "metadata": {
    "slideshow": {
     "slide_type": "slide"
    }
   },
   "source": [
    "# PSO 01\n",
    "\n",
    "- Link: (https://github.com/gehuangyi20/cs448/tree/master/PSO1)\n",
    "- Additional References: (https://www.tutorialspoint.com/sqlite/index.htm)"
   ]
  },
  {
   "cell_type": "code",
   "execution_count": 1,
   "id": "informative-science",
   "metadata": {
    "slideshow": {
     "slide_type": "skip"
    }
   },
   "outputs": [],
   "source": [
    "%load_ext sql"
   ]
  },
  {
   "cell_type": "code",
   "execution_count": 2,
   "id": "terminal-berkeley",
   "metadata": {
    "slideshow": {
     "slide_type": "skip"
    }
   },
   "outputs": [],
   "source": [
    "%sql sqlite:///PSO_01/sql.db"
   ]
  },
  {
   "cell_type": "markdown",
   "id": "willing-august",
   "metadata": {
    "slideshow": {
     "slide_type": "slide"
    }
   },
   "source": [
    "# SQLite\n",
    "\n",
    "- **SQLite** is a C-language library that implements a *small, fast, self-contained, SQL database engine*, which is sufficient building a personal database for daily usage. \n",
    "- In this PSO, we will:\n",
    "  - demonstrate how to install and manage a sqlite database\n",
    "  - cover the basic usage of SQL language, which is a standard language for managing relational databases (Ex. MYSQL, PostgresSQL, ORACLE, SQLite)"
   ]
  },
  {
   "cell_type": "markdown",
   "id": "handled-prediction",
   "metadata": {
    "slideshow": {
     "slide_type": "slide"
    }
   },
   "source": [
    "## 1. SQLite Installation\n",
    "\n",
    "- Linux and MacOS are pre-installed\n",
    "- Windows\n",
    "  1. Go to SQLite [download page](https://www.sqlite.org/download.html), and download pre-compiled binaries from Windows section.\n",
    "  2. Download `sqlite-shell-win32-\\*.zip` and `sqlite-dll-win32-\\*.zip` zipped files.\n",
    "  3. Create a folder `C:\\>sqlite` and unzip above two zipped files in this folder, which will give you `sqlite3.def`, `sqlite3.dll` and `sqlite3.exe` files.\n",
    "  4. Add `C:\\>sqlite` in your PATH environment variable and finally go to the command prompt and issue sqlite3 command, which should display the following result.\n",
    "  \n",
    "You can visit (https://www.tutorialspoint.com/sqlite/sqlite_installation.htm) for installation details."
   ]
  },
  {
   "cell_type": "markdown",
   "id": "fitting-lightweight",
   "metadata": {
    "slideshow": {
     "slide_type": "slide"
    }
   },
   "source": [
    "## 2. SQLite Database Management\n",
    "\n",
    "### Create Database\n",
    "\n",
    "```bash\n",
    "# sqlite3 [dbname]\n",
    "$ sqlite3 /tmp/testDB.db\n",
    "```"
   ]
  },
  {
   "cell_type": "markdown",
   "id": "treated-quantity",
   "metadata": {
    "slideshow": {
     "slide_type": "fragment"
    }
   },
   "source": [
    "### List Databases in `sqlite` prompt\n",
    "\n",
    "```bash\n",
    "sqlite> .databases\n",
    "main: /tmp/testDB.db\n",
    "```"
   ]
  },
  {
   "cell_type": "markdown",
   "id": "duplicate-equity",
   "metadata": {
    "slideshow": {
     "slide_type": "fragment"
    }
   },
   "source": [
    "### Open or Re-Open an existing database\n",
    "\n",
    "```bash\n",
    "# sqlite> .open [dbname]\n",
    "sqlite> .open /tmp/testDB.db\n",
    "```"
   ]
  },
  {
   "cell_type": "markdown",
   "id": "reduced-halifax",
   "metadata": {
    "slideshow": {
     "slide_type": "fragment"
    }
   },
   "source": [
    "### Quit\n",
    "\n",
    "```bash\n",
    "sqlite> .quit\n",
    "```\n",
    "\n",
    "Note: In SQLite command interface, we use dot(`.`) prefixed command to manage the database (e.g., `.table`, `.open`, `.quit`). These commands are only available in SQLite, and are not part of the SQL standard. In other databases like MYSQL, you can find similar commands."
   ]
  },
  {
   "cell_type": "markdown",
   "id": "separated-religious",
   "metadata": {
    "slideshow": {
     "slide_type": "slide"
    }
   },
   "source": [
    "### Import and Dump database\n",
    "\n",
    "Import a database from a `.sql` file\n",
    "```\n",
    "sqlite> .read [SQL File]\n",
    "```\n",
    "\n",
    "Dump a database into a `.sql` file\n",
    "```\n",
    "sqlite> .output [SQL file]\n",
    "sqlite> .dump\n",
    "```"
   ]
  },
  {
   "cell_type": "markdown",
   "id": "neutral-virginia",
   "metadata": {
    "slideshow": {
     "slide_type": "slide"
    }
   },
   "source": [
    "## 3. Tables\n",
    "\n",
    "### Syntax\n",
    "\n",
    "Following is the basic syntax of `CREATE TABLE` statement.\n",
    "```sql\n",
    "CREATE TABLE database_name.table_name (\n",
    "   column1 datatype PRIMARY KEY(one or more columns),\n",
    "   column2 datatype,\n",
    "   column3 datatype,\n",
    "   .....\n",
    "   columnN datatype\n",
    ");\n",
    "```"
   ]
  },
  {
   "cell_type": "markdown",
   "id": "hollywood-monitoring",
   "metadata": {
    "slideshow": {
     "slide_type": "fragment"
    }
   },
   "source": [
    "### Datatypes \n",
    "- text, numeric, integer, real, and none. \n",
    "Reference: https://www.tutorialspoint.com/sqlite/sqlite_data_types.htm"
   ]
  },
  {
   "cell_type": "markdown",
   "id": "raised-lesson",
   "metadata": {
    "slideshow": {
     "slide_type": "slide"
    }
   },
   "source": [
    "### Table Creation\n",
    "\n",
    "Following is the basic syntax of `CREATE TABLE` statement.\n",
    "\n",
    "```sql\n",
    "create table classroom (\n",
    "    building        varchar(15),\n",
    "    room_number     varchar(7),\n",
    "    capacity        numeric(4,0),\n",
    "    primary key (building, room_number)\n",
    ");\n",
    "```"
   ]
  },
  {
   "cell_type": "markdown",
   "id": "proud-parade",
   "metadata": {
    "slideshow": {
     "slide_type": "slide"
    }
   },
   "source": [
    "Following is an example which creates a `classroom` table with `building` and `room_number` as the primary key.\n",
    "\n",
    "```sql\n",
    "create table classroom (\n",
    "    building        varchar(15),\n",
    "    room_number     varchar(7),\n",
    "    capacity        numeric(4,0),\n",
    "    primary key (building, room_number)\n",
    ");\n",
    "```"
   ]
  },
  {
   "cell_type": "markdown",
   "id": "dress-hebrew",
   "metadata": {
    "slideshow": {
     "slide_type": "fragment"
    }
   },
   "source": [
    "Example table\n",
    "\n",
    "| building  | room_number | capacity |\n",
    "| --------- | ----------- | -------- |\n",
    "| Lamberton | 134         | 10       |\n",
    "| Chandler  | 375         | 10       |\n",
    "| Fairchild | 145         | 27       |\n",
    "| Nassau    | 45          | 92       |\n",
    "| Grace     | 40          | 34       |"
   ]
  },
  {
   "cell_type": "markdown",
   "id": "incredible-procedure",
   "metadata": {
    "slideshow": {
     "slide_type": "slide"
    }
   },
   "source": [
    "### List tables\n",
    "\n",
    "You can verify if your table has been created successfully using SQLite command `.tables` command, which will be used to list down all the tables in an attached database.\n",
    "```\n",
    "sqlite> .tables\n",
    "classroom\n",
    "```"
   ]
  },
  {
   "cell_type": "markdown",
   "id": "upper-coordinate",
   "metadata": {
    "slideshow": {
     "slide_type": "slide"
    }
   },
   "source": [
    "### Table Info\n",
    "\n",
    "You can get complete information about a table using the following SQLite `.schema` command.\n",
    "```\n",
    "sqlite> .schema classroom\n",
    "```\n",
    "```sql\n",
    "CREATE TABLE classroom (\n",
    "    building        varchar(15),\n",
    "    room_number     varchar(7),\n",
    "    capacity        numeric(4,0),\n",
    "    primary key (building, room_number)\n",
    ");\n",
    "```"
   ]
  },
  {
   "cell_type": "markdown",
   "id": "periodic-venture",
   "metadata": {
    "slideshow": {
     "slide_type": "slide"
    }
   },
   "source": [
    "### Drop Table\n",
    "\n",
    "Let us first verify `classroom` table and then we will delete it from the database.\n",
    "```\n",
    "sqlite> .tables\n",
    "classroom\n",
    "```\n",
    "\n",
    "This means `classroom` table is available in the database, so let us drop it as follows −\n",
    "```\n",
    "sqlite> DROP TABLE classroom;\n",
    "```\n",
    "\n",
    "Now, if you try `.tables` command, then you will not find `classroom` table anymore.\n",
    "```\n",
    "sqlite> .tables"
   ]
  },
  {
   "cell_type": "markdown",
   "id": "variable-adaptation",
   "metadata": {
    "slideshow": {
     "slide_type": "slide"
    }
   },
   "source": [
    "## 4. Database Operations\n",
    "\n",
    "To manage the data records in a database, we can perform four types of operations: `SELECT`, `INSERT`, `UPDATE`, and `DELETE`\n",
    "\n",
    "  - Read operations:\n",
    "    - `SELECT`\n",
    "  - Write operations:\n",
    "    - `INSERT`, `UPDATE`, and `DELETE`\n"
   ]
  },
  {
   "cell_type": "markdown",
   "id": "demanding-table",
   "metadata": {
    "slideshow": {
     "slide_type": "fragment"
    }
   },
   "source": [
    "### Import data\n",
    "\n",
    "- The database schema we used here comes from the textbook website. \n",
    "- You can find them here: (https://www.db-book.com/db7/university-lab-dir/sample_tables-dir/index.html)\n",
    "```\n",
    "sqlite> .read DDL.sql\n",
    "sqlite> .read smallRelationsInsertFile.sql"
   ]
  },
  {
   "cell_type": "markdown",
   "id": "delayed-ethiopia",
   "metadata": {
    "slideshow": {
     "slide_type": "slide"
    }
   },
   "source": [
    "### INSERT Query\n",
    "\n",
    "#### Syntax\n",
    "```sql\n",
    "INSERT INTO TABLE_NAME [(column1, column2, column3,...columnN)]  \n",
    "VALUES (value1, value2, value3,...valueN);\n",
    "```"
   ]
  },
  {
   "cell_type": "markdown",
   "id": "horizontal-rebecca",
   "metadata": {
    "slideshow": {
     "slide_type": "fragment"
    }
   },
   "source": [
    "Recall the definition of `classroom` table\n",
    "```\n",
    "sqlite> .schema classroom\n",
    "```\n",
    "```sql\n",
    "CREATE TABLE classroom (\n",
    "    building        varchar(15),\n",
    "    room_number     varchar(7),\n",
    "    capacity        numeric(4,0),\n",
    "    primary key (building, room_number)\n",
    ");\n",
    "```"
   ]
  },
  {
   "cell_type": "markdown",
   "id": "light-hands",
   "metadata": {
    "slideshow": {
     "slide_type": "fragment"
    }
   },
   "source": [
    "Insert a row into `classroom` table\n",
    "```sql\n",
    "INSERT INTO classroom VALUES ('Lawson', '10', '500');\n",
    "```"
   ]
  },
  {
   "cell_type": "code",
   "execution_count": 3,
   "id": "broke-lithuania",
   "metadata": {
    "slideshow": {
     "slide_type": "skip"
    }
   },
   "outputs": [
    {
     "name": "stdout",
     "output_type": "stream",
     "text": [
      " * sqlite:///PSO_01/sql.db\n",
      "1 rows affected.\n"
     ]
    },
    {
     "data": {
      "text/plain": [
       "[]"
      ]
     },
     "execution_count": 3,
     "metadata": {},
     "output_type": "execute_result"
    }
   ],
   "source": [
    "%%sql\n",
    "INSERT INTO classroom VALUES ('Lawson', '10', '500');"
   ]
  },
  {
   "cell_type": "markdown",
   "id": "exotic-ready",
   "metadata": {
    "slideshow": {
     "slide_type": "slide"
    }
   },
   "source": [
    "### SELECT Query\n",
    "\n",
    "#### Syntax\n",
    "\n",
    "Here, column1, column2 ... are the fields of a table, whose values you want to fetch\n",
    "```sql\n",
    "SELECT column1, column2, columnN FROM table_name;\n",
    "```\n",
    "\n",
    "If you want to fetch all the fields available in the field, then you can use the following syntax\n",
    "```sql\n",
    "SELECT * FROM table_name;\n",
    "```\n",
    "\n",
    "which in relational algebra is equivalent to $\\sigma(\\text{table_name})$"
   ]
  },
  {
   "cell_type": "markdown",
   "id": "apart-roots",
   "metadata": {
    "slideshow": {
     "slide_type": "slide"
    }
   },
   "source": [
    "#### Example\n",
    "\n",
    "Lookup the data in `classroom` table\n",
    "\n",
    "```\n",
    "# Setup a properly output format\n",
    "sqlite> .header on\n",
    "sqlite> .mode column\n",
    "\n",
    "# Lookup the data\n",
    "sqlite> SELECT * FROM classroom;\n",
    "\n",
    "building    room_number  capacity  \n",
    "----------  -----------  ----------\n",
    "Packard     101          500       \n",
    "Painter     514          10        \n",
    "Taylor      3128         70        \n",
    "Watson      100          30        \n",
    "Watson      120          50        \n",
    "Lawson      10           500     \n",
    "```"
   ]
  },
  {
   "cell_type": "code",
   "execution_count": 4,
   "id": "recognized-american",
   "metadata": {
    "slideshow": {
     "slide_type": "skip"
    }
   },
   "outputs": [
    {
     "name": "stdout",
     "output_type": "stream",
     "text": [
      " * sqlite:///PSO_01/sql.db\n",
      "Done.\n"
     ]
    },
    {
     "data": {
      "text/html": [
       "<table>\n",
       "    <tr>\n",
       "        <th>building</th>\n",
       "        <th>room_number</th>\n",
       "        <th>capacity</th>\n",
       "    </tr>\n",
       "    <tr>\n",
       "        <td>Packard</td>\n",
       "        <td>101</td>\n",
       "        <td>500</td>\n",
       "    </tr>\n",
       "    <tr>\n",
       "        <td>Painter</td>\n",
       "        <td>514</td>\n",
       "        <td>10</td>\n",
       "    </tr>\n",
       "    <tr>\n",
       "        <td>Taylor</td>\n",
       "        <td>3128</td>\n",
       "        <td>70</td>\n",
       "    </tr>\n",
       "    <tr>\n",
       "        <td>Watson</td>\n",
       "        <td>100</td>\n",
       "        <td>30</td>\n",
       "    </tr>\n",
       "    <tr>\n",
       "        <td>Watson</td>\n",
       "        <td>120</td>\n",
       "        <td>50</td>\n",
       "    </tr>\n",
       "    <tr>\n",
       "        <td>Lawson</td>\n",
       "        <td>10</td>\n",
       "        <td>500</td>\n",
       "    </tr>\n",
       "</table>"
      ],
      "text/plain": [
       "[('Packard', '101', 500),\n",
       " ('Painter', '514', 10),\n",
       " ('Taylor', '3128', 70),\n",
       " ('Watson', '100', 30),\n",
       " ('Watson', '120', 50),\n",
       " ('Lawson', '10', 500)]"
      ]
     },
     "execution_count": 4,
     "metadata": {},
     "output_type": "execute_result"
    }
   ],
   "source": [
    "%%sql\n",
    "SELECT * FROM classroom;"
   ]
  },
  {
   "cell_type": "markdown",
   "id": "qualified-lending",
   "metadata": {
    "slideshow": {
     "slide_type": "slide"
    }
   },
   "source": [
    "### WHERE Clause\n",
    "\n",
    "- `WHERE` clause is used to specify a condition while fetching the data from one table or multiple tables.\n",
    "- If the given condition is satisfied, it returns the specific value from the table. \n",
    "- Use `WHERE` clause to filter the records and fetch only necessary records.\n",
    "- Used in `SELECT` statement and also in `UPDATE`, `DELETE` statement, etc.\n",
    "\n",
    "#### Syntax\n",
    "\n",
    "```sql\n",
    "SELECT column1, column2, columnN\n",
    "FROM table_name\n",
    "WHERE [condition]\n",
    "```"
   ]
  },
  {
   "cell_type": "markdown",
   "id": "ultimate-display",
   "metadata": {
    "slideshow": {
     "slide_type": "slide"
    }
   },
   "source": [
    "#### Example\n",
    "\n",
    "Consider `classroom` table with the following records.\n",
    "\n",
    " building  | room_number | capacity  \n",
    "---------- | ----------- | ----------\n",
    "Packard    | 101         | 500       \n",
    "Painter    | 514         | 10        \n",
    "Taylor     | 3128        | 70        \n",
    "Watson     | 100         | 30        \n",
    "Watson     | 120         | 50        \n",
    "Lawson     | 10          | 500     \n"
   ]
  },
  {
   "cell_type": "markdown",
   "id": "assumed-france",
   "metadata": {
    "slideshow": {
     "slide_type": "fragment"
    }
   },
   "source": [
    "Find records which the capacity is smaller than 100.\n",
    "\n",
    "In relational algebra: $\\sigma_{\\text{capacity} < 100}(\\text{classroom})$\n",
    "\n",
    "In SQL:\n",
    "```sql\n",
    "SELECT * FROM classroom WHERE capacity < 100;\n",
    "```"
   ]
  },
  {
   "cell_type": "markdown",
   "id": "refined-edgar",
   "metadata": {
    "slideshow": {
     "slide_type": "fragment"
    }
   },
   "source": [
    "building   | room_number | capacity  \n",
    "---------- | ----------- | ----------\n",
    "Painter    | 514         | 10        \n",
    "Taylor     | 3128        | 70        \n",
    "Watson     | 100         | 30        \n",
    "Watson     | 120         | 50   "
   ]
  },
  {
   "cell_type": "markdown",
   "id": "sacred-germany",
   "metadata": {
    "slideshow": {
     "slide_type": "fragment"
    }
   },
   "source": [
    "- You can use other logical operators in `WHERE` clauses, such as ` >, <, =, LIKE, NOT`, etc."
   ]
  },
  {
   "cell_type": "markdown",
   "id": "lesbian-floating",
   "metadata": {
    "slideshow": {
     "slide_type": "slide"
    }
   },
   "source": [
    "### AND & OR Operators\n",
    "\n",
    "- **AND** & **OR** operators are used to combine multiple conditions to narrow down the selected data\n",
    "- These two operators are called **conjunctive** operators.\n",
    "\n",
    "#### Syntax\n",
    "```sql\n",
    "SELECT column1, column2, columnN\n",
    "FROM table_name\n",
    "WHERE [condition1] [AND or OR] [condition2]...[AND or OR] [conditionN];\n",
    "```"
   ]
  },
  {
   "cell_type": "markdown",
   "id": "impressed-contrast",
   "metadata": {
    "slideshow": {
     "slide_type": "slide"
    }
   },
   "source": [
    "#### Example\n",
    "\n",
    "Consider `classroom` table with the following records:\n",
    "\n",
    "```\n",
    "building    room_number  capacity  \n",
    "----------  -----------  ----------\n",
    "Packard     101          500       \n",
    "Painter     514          10        \n",
    "Taylor      3128         70        \n",
    "Watson      100          30        \n",
    "Watson      120          50        \n",
    "Lawson      10           500     \n",
    "```\n"
   ]
  },
  {
   "cell_type": "markdown",
   "id": "promotional-columbus",
   "metadata": {
    "slideshow": {
     "slide_type": "slide"
    }
   },
   "source": [
    "Find records which the capacity is smaller than 100 and larger than 20.\n",
    "\n",
    "Relational Algebra:\n",
    "$\\sigma_{\\text{capacity} < 100 \\land \\text{capacity} > 20}(\\text{classroom})$\n",
    "\n",
    "SQL:\n",
    "```sql\n",
    "SELECT * FROM classroom WHERE capacity < 100 AND capacity > 20;\n",
    "```\n",
    "\n",
    "```\n",
    "building    room_number  capacity  \n",
    "----------  -----------  ----------\n",
    "Taylor      3128         70        \n",
    "Watson      100          30        \n",
    "Watson      120          50    \n",
    "```\n"
   ]
  },
  {
   "cell_type": "markdown",
   "id": "textile-census",
   "metadata": {
    "slideshow": {
     "slide_type": "slide"
    }
   },
   "source": [
    "### UPDATE Query\n",
    "\n",
    "- `UPDATE` Query is used to modify the existing records in a table. \n",
    "- You can use `WHERE` clause with `UPDATE` query to update selected rows, otherwise all the rows would be updated.\n",
    "\n",
    "```sql\n",
    "UPDATE table_name\n",
    "SET column1 = value1, column2 = value2...., columnN = valueN\n",
    "WHERE [condition];\n",
    "```"
   ]
  },
  {
   "cell_type": "markdown",
   "id": "patent-dragon",
   "metadata": {
    "slideshow": {
     "slide_type": "fragment"
    }
   },
   "source": [
    "#### Example\n",
    "\n",
    "Update `classroom` which building is Watson and room_number is 100.\n",
    "```sql\n",
    "UPDATE classroom SET capacity = 1000 WHERE building = 'Watson' AND room_number = 100;\n",
    "```\n",
    "\n",
    "Now classroom table will have following records:\n",
    "```\n",
    "building    room_number  capacity  \n",
    "----------  -----------  ----------\n",
    "Packard     101          500       \n",
    "Painter     514          10        \n",
    "Taylor      3128         70        \n",
    "Watson      100          1000      \n",
    "Watson      120          50        \n",
    "Lawson      10           500    \n",
    "```"
   ]
  },
  {
   "cell_type": "markdown",
   "id": "bright-sarah",
   "metadata": {
    "slideshow": {
     "slide_type": "slide"
    }
   },
   "source": [
    "### DELETE Query\n",
    "\n",
    "- `DELETE` Query is used to delete the existing records from a table. \n",
    "- You can use `WHERE` clause with `DELETE` query to delete the selected rows, otherwise all the records would be deleted.\n",
    "\n",
    "#### Syntax\n",
    "```sql\n",
    "DELETE FROM table_name\n",
    "WHERE [condition];\n",
    "```\n",
    "\n",
    "#### Example\n",
    "\n",
    "Consider `classroom` table with the following records.\n",
    "\n",
    "```\n",
    "building    room_number  capacity  \n",
    "----------  -----------  ----------\n",
    "Packard     101          500       \n",
    "Painter     514          10        \n",
    "Taylor      3128         70        \n",
    "Watson      100          30        \n",
    "Watson      120          50        \n",
    "Lawson      10           500     \n",
    "```\n",
    "\n",
    "We will delete the classroom which building equals to Lawson.\n",
    "\n",
    "```sql\n",
    "DELETE FROM classroom WHERE building = 'Lawson';\n",
    "```\n",
    "Now classroom table will have following records:\n",
    "```\n",
    "building    room_number  capacity  \n",
    "----------  -----------  ----------\n",
    "Packard     101          500       \n",
    "Painter     514          10        \n",
    "Taylor      3128         70        \n",
    "Watson      100          1000      \n",
    "Watson      120          50     \n",
    "```\n",
    "\n",
    "If you want to DELETE all the records from `classroom` table, you do not need to use WHERE clause with DELETE query, which will be as follows\n",
    "\n",
    "```sql\n",
    "DELETE FROM classroom;\n",
    "```"
   ]
  },
  {
   "cell_type": "markdown",
   "id": "dutch-school",
   "metadata": {
    "slideshow": {
     "slide_type": "slide"
    }
   },
   "source": [
    "#### Example\n",
    "\n",
    "We will delete the classroom which building equals to Lawson.\n",
    "\n",
    "```sql\n",
    "DELETE FROM classroom WHERE building = 'Lawson';\n",
    "```\n",
    "Now classroom table will have following records:\n",
    "```\n",
    "building    room_number  capacity  \n",
    "----------  -----------  ----------\n",
    "Packard     101          500       \n",
    "Painter     514          10        \n",
    "Taylor      3128         70        \n",
    "Watson      100          1000      \n",
    "Watson      120          50     \n",
    "```"
   ]
  },
  {
   "cell_type": "markdown",
   "id": "joined-housing",
   "metadata": {
    "slideshow": {
     "slide_type": "fragment"
    }
   },
   "source": [
    "If you want to DELETE all the records from `classroom` table, you do not need to use WHERE clause with DELETE query, which will be as follows\n",
    "\n",
    "```sql\n",
    "DELETE FROM classroom;\n",
    "```"
   ]
  },
  {
   "cell_type": "markdown",
   "id": "threaded-longer",
   "metadata": {
    "slideshow": {
     "slide_type": "slide"
    }
   },
   "source": [
    "## 6. Advanced SELECT\n",
    "\n",
    "In SQLite, we can perform more complicated SELECT operations such as JOIN, LIKE, LIMIT, ORDER BY, GROUP BY, HAVING, AGGREGATION, DISTINCT\n",
    "\n",
    "### JOIN\n",
    "\n",
    "SQLite Joins clause is used to combine records from two or more tables in a database. A JOIN is a means for combining fields from two tables by using values common to each.\n",
    "\n",
    "SQL defines three major types of joins\n",
    "- The CROSS JOIN\n",
    "- The INNER JOIN\n",
    "- The OUTER JOIN"
   ]
  },
  {
   "cell_type": "markdown",
   "id": "changing-fifty",
   "metadata": {
    "slideshow": {
     "slide_type": "slide"
    }
   },
   "source": [
    "### JOIN\n",
    "\n",
    "Let's consider two tables `classroom` and `department`.\n",
    "\n",
    "The first table is `classroom` table with the following records.\n",
    "\n",
    "```\n",
    "building    room_number  capacity  \n",
    "----------  -----------  ----------\n",
    "Packard     101          500       \n",
    "Painter     514          10        \n",
    "Taylor      3128         70        \n",
    "Watson      100          30        \n",
    "Watson      120          50        \n",
    "Lawson      10           500\n",
    "```\n",
    "\n",
    "The second table is `department` table with the following records.\n",
    "\n",
    "```\n",
    "dept_name   building    budget    \n",
    "----------  ----------  ----------\n",
    "Biology     Watson      90000     \n",
    "Comp. Sci.  Taylor      100000    \n",
    "Elec. Eng.  Taylor      85000     \n",
    "Finance     Painter     120000    \n",
    "History     Painter     50000     \n",
    "Music       Packard     80000     \n",
    "Physics     Watson      70000     \n",
    "```"
   ]
  },
  {
   "cell_type": "markdown",
   "id": "raised-building",
   "metadata": {
    "slideshow": {
     "slide_type": "slide"
    }
   },
   "source": [
    "#### The CROSS JOIN\n",
    "\n",
    "- `CROSS JOIN` matches every row of the first table with every row of the second table. \n",
    "- If the input tables have $n$ and $m$ rows, respectively, the resulting table will have $n \\times m$ rows. \n",
    "- CROSS JOINs have the potential to generate extremely large tables, so care must be taken to only use them when appropriate.\n",
    "\n",
    "#### Syntax\n",
    "\n",
    "```sql\n",
    "SELECT ... FROM table1 CROSS JOIN table2 ...\n",
    "```"
   ]
  },
  {
   "cell_type": "markdown",
   "id": "medieval-bailey",
   "metadata": {
    "slideshow": {
     "slide_type": "slide"
    }
   },
   "source": [
    "#### The CROSS JOIN\n",
    "\n",
    "CROSS JOIN of `classroom` and `department`:\n",
    "\n",
    "SQL:\n",
    "```sql\n",
    "SELECT * FROM classroom CROSS JOIN department;\n",
    "```\n",
    "\n",
    "Relational Algebra:\n",
    "$\\sigma(\\text{classroom} \\times \\text{department})$"
   ]
  },
  {
   "cell_type": "markdown",
   "id": "matched-november",
   "metadata": {
    "slideshow": {
     "slide_type": "fragment"
    }
   },
   "source": [
    "Result:\n",
    "\n",
    "```\n",
    "building    room_number  capacity    dept_name   building    budget    \n",
    "----------  -----------  ----------  ----------  ----------  ----------\n",
    "Packard     101          500         Biology     Watson      90000     \n",
    "Packard     101          500         Comp. Sci.  Taylor      100000    \n",
    "Packard     101          500         Elec. Eng.  Taylor      85000     \n",
    "Packard     101          500         Finance     Painter     120000    \n",
    "Packard     101          500         History     Painter     50000     \n",
    "Packard     101          500         Music       Packard     80000     \n",
    "Packard     101          500         Physics     Watson      70000     \n",
    "Painter     514          10          Biology     Watson      90000     \n",
    "Painter     514          10          Comp. Sci.  Taylor      100000    \n",
    "Painter     514          10          Elec. Eng.  Taylor      85000     \n",
    "Painter     514          10          Finance     Painter     120000    \n",
    "Painter     514          10          History     Painter     50000     \n",
    "Painter     514          10          Music       Packard     80000     \n",
    "Painter     514          10          Physics     Watson      70000     \n",
    "Taylor      3128         70          Biology     Watson      90000     \n",
    "Taylor      3128         70          Comp. Sci.  Taylor      100000    \n",
    "Taylor      3128         70          Elec. Eng.  Taylor      85000     \n",
    "Taylor      3128         70          Finance     Painter     120000    \n",
    "Taylor      3128         70          History     Painter     50000     \n",
    "Taylor      3128         70          Music       Packard     80000     \n",
    "Taylor      3128         70          Physics     Watson      70000     \n",
    "Watson      100          1000        Biology     Watson      90000     \n",
    "Watson      100          1000        Comp. Sci.  Taylor      100000    \n",
    "Watson      100          1000        Elec. Eng.  Taylor      85000     \n",
    "Watson      100          1000        Finance     Painter     120000    \n",
    "Watson      100          1000        History     Painter     50000     \n",
    "Watson      100          1000        Music       Packard     80000     \n",
    "Watson      100          1000        Physics     Watson      70000     \n",
    "Watson      120          50          Biology     Watson      90000     \n",
    "Watson      120          50          Comp. Sci.  Taylor      100000    \n",
    "Watson      120          50          Elec. Eng.  Taylor      85000     \n",
    "Watson      120          50          Finance     Painter     120000    \n",
    "Watson      120          50          History     Painter     50000     \n",
    "Watson      120          50          Music       Packard     80000     \n",
    "Watson      120          50          Physics     Watson      70000     \n",
    "```"
   ]
  },
  {
   "cell_type": "markdown",
   "id": "sensitive-implementation",
   "metadata": {
    "slideshow": {
     "slide_type": "slide"
    }
   },
   "source": [
    "#### The INNER JOIN\n",
    "\n",
    "- INNER JOIN creates a new result table by combining column values of two tables (table1 and table2) based upon the join-predicate. \n",
    "- The query compares each row of table1 with each row of table2 to find all pairs of rows which satisfy the join-predicate. \n",
    "- When the join-predicate is satisfied, the column values for each matched pair of rows of A and B are combined into a result row.\n",
    "\n",
    "An `INNER JOIN` is **the most common and default type of join**. You can use `INNER` keyword optionally.\n",
    "\n",
    "#### Syntax\n",
    "```sql\n",
    "SELECT ... FROM table1 [INNER] JOIN table2 ON conditional_expression ...\n",
    "```\n",
    "\n",
    "To avoid redundancy and keep the phrasing shorter, `INNER JOIN` conditions can be declared with a `USING` expression. This expression specifies a list of one or more columns.\n",
    "```sql\n",
    "SELECT ... FROM table1 JOIN table2 USING ( column1 ,... ) ...\n",
    "```\n",
    "\n",
    "A `NATURAL JOIN` is similar to a `JOIN...USING`, only it automatically tests for equality between the values of every column that exists in both tables.\n",
    "```sql\n",
    "SELECT ... FROM table1 NATURAL JOIN table2...\n",
    "```"
   ]
  },
  {
   "cell_type": "markdown",
   "id": "missing-powell",
   "metadata": {
    "slideshow": {
     "slide_type": "slide"
    }
   },
   "source": [
    "#### Example\n",
    "\n",
    "Based on the previous tables, you can write an INNER `JOIN` as follows:\n",
    "```sql\n",
    "SELECT * FROM classroom INNER JOIN department on classroom.building = department.building;\n",
    "```\n",
    "\n",
    "We use `table_name.column_name` to avoid the ambiguity if two tables have the same name on one column.\n",
    "\n",
    "```\n",
    "building    room_number  capacity    dept_name   building    budget    \n",
    "----------  -----------  ----------  ----------  ----------  ----------\n",
    "Watson      100          1000        Biology     Watson      90000     \n",
    "Watson      120          50          Biology     Watson      90000     \n",
    "Taylor      3128         70          Comp. Sci.  Taylor      100000    \n",
    "Taylor      3128         70          Elec. Eng.  Taylor      85000     \n",
    "Painter     514          10          Finance     Painter     120000    \n",
    "Painter     514          10          History     Painter     50000     \n",
    "Packard     101          500         Music       Packard     80000     \n",
    "Watson      100          1000        Physics     Watson      70000     \n",
    "Watson      120          50          Physics     Watson      70000     \n",
    "```\n",
    "\n",
    "\n",
    "The above query is equivalent to following queries\n",
    "```\n",
    "# JOIN instead of INNER JOIN\n",
    "SELECT * FROM classroom JOIN department on classroom.building = department.building;\n",
    "# USING clause\n",
    "SELECT * FROM classroom JOIN department USING (building);\n",
    "# NATURAL JOIN\n",
    "SELECT * FROM classroom INNER NATURAL JOIN department;\n",
    "# WHERE clause\n",
    "SELECT * FROM classroom, department WHERE classroom.building = department.building;\n",
    "# USE short cut table name\n",
    "SELECT c.building, c.room_number, c.capacity, d.dept_name, d.building, d.budget\n",
    "FROM classroom AS c, department AS d WHERE c.building = d.building;\n",
    "```"
   ]
  },
  {
   "cell_type": "markdown",
   "id": "active-moderator",
   "metadata": {
    "slideshow": {
     "slide_type": "slide"
    }
   },
   "source": [
    "#### Example\n",
    "\n",
    "```sql\n",
    "SELECT * FROM classroom INNER JOIN department on classroom.building = department.building;\n",
    "```\n",
    "\n",
    "The above query is equivalent to following queries:\n",
    "```sql\n",
    "-- JOIN instead of INNER JOIN\n",
    "SELECT * FROM classroom JOIN department on classroom.building = department.building;\n",
    "-- USING clause\n",
    "SELECT * FROM classroom JOIN department USING (building);\n",
    "-- NATURAL JOIN\n",
    "SELECT * FROM classroom INNER NATURAL JOIN department;\n",
    "-- WHERE clause\n",
    "SELECT * FROM classroom, department WHERE classroom.building = department.building;\n",
    "-- USE short cut table name\n",
    "SELECT c.building, c.room_number, c.capacity, d.dept_name, d.building, d.budget\n",
    "FROM classroom AS c, department AS d WHERE c.building = d.building;\n",
    "```"
   ]
  },
  {
   "cell_type": "markdown",
   "id": "editorial-franchise",
   "metadata": {
    "slideshow": {
     "slide_type": "slide"
    }
   },
   "source": [
    "#### The OUTER JOIN\n",
    "\n",
    "- `OUTER JOIN` is an extension of `INNER JOIN`. \n",
    "- SQL standard defines three types of OUTER JOINs: LEFT, RIGHT, and FULL\n",
    "- However, SQLite only supports the `LEFT OUTER JOIN`."
   ]
  },
  {
   "cell_type": "markdown",
   "id": "correct-sacramento",
   "metadata": {
    "slideshow": {
     "slide_type": "fragment"
    }
   },
   "source": [
    "- OUTER JOINs have a condition that is identical to INNER JOINs, expressed using an ON, USING, or NATURAL keyword. \n",
    "- The initial results table is calculated the same way. \n",
    "- Once the primary JOIN is calculated, an OUTER JOIN will take any unjoined rows from one or both tables, pad them out with NULLs, and append them to the resulting table."
   ]
  },
  {
   "cell_type": "markdown",
   "id": "brazilian-justice",
   "metadata": {
    "slideshow": {
     "slide_type": "slide"
    }
   },
   "source": [
    "#### Syntax of `LEFT OUTER JOIN`\n",
    "\n",
    "```sql\n",
    "SELECT ... FROM table1 LEFT OUTER JOIN table2 ON conditional_expression ...\n",
    "```\n",
    "\n",
    "To avoid redundancy and keep the phrasing shorter, `OUTER JOIN` conditions can be declared with a `USING` expression. This expression specifies a list of one or more columns.\n",
    "\n",
    "```sql\n",
    "SELECT ... FROM table1 LEFT OUTER JOIN table2 USING ( column1 ,... ) ...\n",
    "```"
   ]
  },
  {
   "cell_type": "markdown",
   "id": "painful-intent",
   "metadata": {
    "slideshow": {
     "slide_type": "slide"
    }
   },
   "source": [
    "#### Example\n",
    "\n",
    "```sql\n",
    "INSERT INTO classroom VALUES ('Lawson', '10', '500');\n",
    "```\n",
    "\n",
    "If we insert the Lawson record again (above), we have the following tables:\n",
    "\n",
    "classroom table\n",
    "```\n",
    "building    room_number  capacity  \n",
    "----------  -----------  ----------\n",
    "Packard     101          500       \n",
    "Painter     514          10        \n",
    "Taylor      3128         70        \n",
    "Watson      100          1000      \n",
    "Watson      120          50        \n",
    "Lawson      10           500    \n",
    "```\n",
    "\n",
    "department table\n",
    "```\n",
    "dept_name   building    budget    \n",
    "----------  ----------  ----------\n",
    "Biology     Watson      90000     \n",
    "Comp. Sci.  Taylor      100000    \n",
    "Elec. Eng.  Taylor      85000     \n",
    "Finance     Painter     120000    \n",
    "History     Painter     50000     \n",
    "Music       Packard     80000     \n",
    "Physics     Watson      70000     \n",
    "```"
   ]
  },
  {
   "cell_type": "markdown",
   "id": "posted-brand",
   "metadata": {
    "slideshow": {
     "slide_type": "slide"
    }
   },
   "source": [
    "#### Example\n",
    "\n",
    "Based on the previous tables, you can write a left join as follows:\n",
    "```sql\n",
    "SELECT * FROM classroom LEFT JOIN department USING (building);\n",
    "```"
   ]
  },
  {
   "cell_type": "markdown",
   "id": "parallel-ability",
   "metadata": {
    "slideshow": {
     "slide_type": "fragment"
    }
   },
   "source": [
    "This is the result:\n",
    "```\n",
    "building    room_number  capacity    dept_name   budget    \n",
    "----------  -----------  ----------  ----------  ----------\n",
    "Packard     101          500         Music       80000     \n",
    "Painter     514          10          Finance     120000    \n",
    "Painter     514          10          History     50000     \n",
    "Taylor      3128         70          Comp. Sci.  100000    \n",
    "Taylor      3128         70          Elec. Eng.  85000     \n",
    "Watson      100          1000        Biology     90000     \n",
    "Watson      100          1000        Physics     70000     \n",
    "Watson      120          50          Biology     90000     \n",
    "Watson      120          50          Physics     70000     \n",
    "Lawson      10           500                             \n",
    "```\n",
    "\n",
    "Notice that the Lawson classroom record does not have a matching record in the department table, so those columns appear as empty/null. "
   ]
  },
  {
   "cell_type": "markdown",
   "id": "upper-triumph",
   "metadata": {
    "slideshow": {
     "slide_type": "slide"
    }
   },
   "source": [
    "\n",
    "### ORDER BY\n",
    "\n",
    "- `ORDER BY` clause is used to sort the data in an ascending or descending order, based on one or more columns.\n",
    "- You can use more than one column in the `ORDER BY` clause. Make sure whatever column you are using to sort, that column should be available in the column-list.\n",
    "\n",
    "#### Syntax\n",
    "```sql\n",
    "SELECT column-list\n",
    "FROM table_name\n",
    "[WHERE condition]\n",
    "[ORDER BY column1, column2, .. columnN] [ASC | DESC];\n",
    "```"
   ]
  },
  {
   "cell_type": "markdown",
   "id": "pediatric-welcome",
   "metadata": {
    "slideshow": {
     "slide_type": "slide"
    }
   },
   "source": [
    "#### Example\n",
    "\n",
    "Based on the above tables, you can write an inner join as follows:\n",
    "```sql\n",
    "SELECT * FROM classroom LEFT JOIN department USING (building);\n",
    "```\n",
    "\n",
    "```\n",
    "building    room_number  capacity    dept_name   budget    \n",
    "----------  -----------  ----------  ----------  ----------\n",
    "Packard     101          500         Music       80000     \n",
    "Painter     514          10          Finance     120000    \n",
    "Painter     514          10          History     50000     \n",
    "Taylor      3128         70          Comp. Sci.  100000    \n",
    "Taylor      3128         70          Elec. Eng.  85000     \n",
    "Watson      100          1000        Biology     90000     \n",
    "Watson      100          1000        Physics     70000     \n",
    "Watson      120          50          Biology     90000     \n",
    "Watson      120          50          Physics     70000     \n",
    "Lawson      10           500                             \n",
    "```"
   ]
  },
  {
   "cell_type": "markdown",
   "id": "moved-talent",
   "metadata": {
    "slideshow": {
     "slide_type": "slide"
    }
   },
   "source": [
    "#### Example\n",
    "\n",
    "Consider `classroom` table with the following records:\n",
    "\n",
    "```\n",
    "building    room_number  capacity  \n",
    "----------  -----------  ----------\n",
    "Packard     101          500       \n",
    "Painter     514          10        \n",
    "Taylor      3128         70        \n",
    "Watson      100          30        \n",
    "Watson      120          50        \n",
    "```\n",
    "\n",
    "We will find all records in table `classroom` and sort the result by column building in ascending order and room_number in descending order.\n",
    "```\n",
    "sqlite> SELECT * FROM classroom ORDER BY building ASC, room_number DESC;\n",
    "building    room_number  capacity  \n",
    "----------  -----------  ----------\n",
    "Packard     101          500       \n",
    "Painter     514          10        \n",
    "Taylor      3128         70        \n",
    "Watson      120          50        \n",
    "Watson      100          1000  \n",
    "```\n"
   ]
  },
  {
   "cell_type": "markdown",
   "id": "loose-washer",
   "metadata": {
    "slideshow": {
     "slide_type": "slide"
    }
   },
   "source": [
    "### GROUP BY\n",
    "\n",
    "- `GROUP BY` clause is used in collaboration with the `SELECT` statement to arrange identical data into groups.\n",
    "- `GROUP BY` clause follows the `WHERE` clause in a `SELECT` statement and precedes the `ORDER BY` clause.\n",
    "- You can use more than one column in the `GROUP BY` clause. Make sure whatever column you are using to group, that column should be available in the column-list.\n",
    "\n",
    "#### Syntax\n",
    "Following is the basic syntax of `GROUP BY` clause. `GROUP BY` clause must follow the conditions in the `WHERE` clause and must precede `ORDER BY` clause if one is used.\n",
    "\n",
    "```sql\n",
    "SELECT column-list\n",
    "FROM table_name\n",
    "WHERE [ conditions ]\n",
    "GROUP BY column1, column2....columnN\n",
    "ORDER BY column1, column2....columnN\n",
    "````"
   ]
  },
  {
   "cell_type": "markdown",
   "id": "opposed-campaign",
   "metadata": {
    "slideshow": {
     "slide_type": "slide"
    }
   },
   "source": [
    "#### Example\n",
    "\n",
    "Consider `classroom` table with the following records.\n",
    "\n",
    "```\n",
    "building    room_number  capacity  \n",
    "----------  -----------  ----------\n",
    "Packard     101          500       \n",
    "Painter     514          10        \n",
    "Taylor      3128         70        \n",
    "Watson      100          30        \n",
    "Watson      120          50        \n",
    "```\n",
    "\n",
    "We want to know the total capacity of each building.\n",
    "\n",
    "```\n",
    "sqlite> SELECT building, SUM(capacity) FROM classroom GROUP BY building;\n",
    "----------  -------------\n",
    "Packard     500          \n",
    "Painter     10           \n",
    "Taylor      70           \n",
    "Watson      1050      \n",
    "```"
   ]
  }
 ],
 "metadata": {
  "celltoolbar": "Slideshow",
  "kernelspec": {
   "display_name": "Python 3",
   "language": "python",
   "name": "python3"
  },
  "language_info": {
   "codemirror_mode": {
    "name": "ipython",
    "version": 3
   },
   "file_extension": ".py",
   "mimetype": "text/x-python",
   "name": "python",
   "nbconvert_exporter": "python",
   "pygments_lexer": "ipython3",
   "version": "3.7.5"
  }
 },
 "nbformat": 4,
 "nbformat_minor": 5
}
