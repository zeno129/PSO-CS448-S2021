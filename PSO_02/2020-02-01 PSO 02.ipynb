{
 "cells": [
  {
   "cell_type": "markdown",
   "id": "perceived-horizon",
   "metadata": {
    "slideshow": {
     "slide_type": "slide"
    }
   },
   "source": [
    "# PSO 02\n",
    "\n",
    "### Instructor: Giselle Zeno\n",
    "\n",
    "- PSO OL2/OL3 materials: [github](https://github.com/zeno129/PSO-CS448-S2021)"
   ]
  },
  {
   "cell_type": "markdown",
   "id": "purple-frost",
   "metadata": {
    "slideshow": {
     "slide_type": "skip"
    },
    "tags": [
     "remove_cell"
    ]
   },
   "source": [
    "---\n",
    "\n",
    "Serve html slides\n",
    "\n",
    "`jupyter nbconvert 2020-02-01\\ PSO\\ 02.ipynb.ipynb --to slides --post serve`\n",
    "\n",
    "Make markdown file:\n",
    "\n",
    "`jupyter nbconvert 2020-02-01\\ PSO\\ 02.ipynb  --to markdown  --TagRemovePreprocessor.remove_cell_tags=\"remove_cell\"`\n",
    "\n",
    "---"
   ]
  },
  {
   "cell_type": "code",
   "execution_count": 2,
   "id": "fewer-lincoln",
   "metadata": {
    "slideshow": {
     "slide_type": "skip"
    },
    "tags": [
     "remove_cell"
    ]
   },
   "outputs": [],
   "source": [
    "%load_ext sql"
   ]
  },
  {
   "cell_type": "code",
   "execution_count": 8,
   "id": "related-senator",
   "metadata": {
    "slideshow": {
     "slide_type": "skip"
    },
    "tags": [
     "remove_cell"
    ]
   },
   "outputs": [],
   "source": [
    "import pandas as pd"
   ]
  },
  {
   "cell_type": "code",
   "execution_count": 17,
   "id": "tight-stupid",
   "metadata": {
    "slideshow": {
     "slide_type": "skip"
    },
    "tags": [
     "remove_cell"
    ]
   },
   "outputs": [],
   "source": [
    "import tabulate"
   ]
  },
  {
   "cell_type": "code",
   "execution_count": 3,
   "id": "passing-divorce",
   "metadata": {
    "slideshow": {
     "slide_type": "skip"
    },
    "tags": [
     "remove_cell"
    ]
   },
   "outputs": [],
   "source": [
    "%sql sqlite:///resources/sql.db"
   ]
  },
  {
   "cell_type": "markdown",
   "id": "worst-delight",
   "metadata": {
    "slideshow": {
     "slide_type": "skip"
    },
    "tags": [
     "remove_cell"
    ]
   },
   "source": [
    "## Schema for university database\n",
    "\n",
    "![Figure 2.9: Schema diagram for university database](figures/figure_2-9.png)"
   ]
  },
  {
   "cell_type": "markdown",
   "id": "instant-gross",
   "metadata": {
    "slideshow": {
     "slide_type": "slide"
    }
   },
   "source": [
    "### Setup\n",
    "\n",
    "1. [Download database](resources/sql-original.db)\n",
    "2. Start SQLite `$sqlite3`\n",
    "3. Open database `sqlite> .open sql-original.db`\n",
    "4. Setup headers\n",
    "```\n",
    "sqlite> .header on\n",
    "sqlite> .mode column\n",
    "```"
   ]
  },
  {
   "cell_type": "markdown",
   "id": "strong-pleasure",
   "metadata": {
    "slideshow": {
     "slide_type": "slide"
    }
   },
   "source": [
    "### Schema for instructor relation\n",
    "\n",
    "Recall the schema that we used previously:\n",
    "\n",
    "![Figure 2.9: Schema diagram for instructor relation](figures/ERD-instructor.png)\n",
    "\n",
    "#### SQL data definition\n",
    "\n",
    "```sql\n",
    "create table instructor\n",
    "    (ID             varchar(5), \n",
    "     name           varchar(20) not null, \n",
    "     dept_name      varchar(20), \n",
    "     salary         numeric(8,2) check (salary > 29000),\n",
    "     primary key (ID),\n",
    "     foreign key (dept_name) references department (dept_name)\n",
    "        on delete set null\n",
    "    );\n",
    "```"
   ]
  },
  {
   "cell_type": "code",
   "execution_count": 12,
   "id": "bulgarian-upper",
   "metadata": {
    "slideshow": {
     "slide_type": "skip"
    },
    "tags": [
     "remove_cell"
    ]
   },
   "outputs": [
    {
     "name": "stdout",
     "output_type": "stream",
     "text": [
      " * sqlite:///resources/sql.db\n",
      "Done.\n"
     ]
    }
   ],
   "source": [
    "result = %sql select * from instructor;\n",
    "result = result.DataFrame()"
   ]
  },
  {
   "cell_type": "code",
   "execution_count": 22,
   "id": "seven-douglas",
   "metadata": {
    "slideshow": {
     "slide_type": "skip"
    },
    "tags": [
     "remove_cell"
    ]
   },
   "outputs": [
    {
     "name": "stdout",
     "output_type": "stream",
     "text": [
      "|    ID | name       | dept_name   |   salary |\n",
      "|------:|:-----------|:------------|---------:|\n",
      "| 10101 | Srinivasan | Comp. Sci.  |    65000 |\n",
      "| 12121 | Wu         | Finance     |    90000 |\n",
      "| 15151 | Mozart     | Music       |    40000 |\n",
      "| 22222 | Einstein   | Physics     |    95000 |\n",
      "| 32343 | El Said    | History     |    60000 |\n",
      "| 33456 | Gold       | Physics     |    87000 |\n",
      "| 45565 | Katz       | Comp. Sci.  |    75000 |\n",
      "| 58583 | Califieri  | History     |    62000 |\n",
      "| 76543 | Singh      | Finance     |    80000 |\n",
      "| 76766 | Crick      | Biology     |    72000 |\n",
      "| 83821 | Brandt     | Comp. Sci.  |    92000 |\n",
      "| 98345 | Kim        | Elec. Eng.  |    80000 |\n"
     ]
    }
   ],
   "source": [
    "print(result.to_markdown(index=False))"
   ]
  },
  {
   "cell_type": "markdown",
   "id": "damaged-england",
   "metadata": {
    "slideshow": {
     "slide_type": "slide"
    }
   },
   "source": [
    "#### Example data\n",
    "\n",
    "|    ID | name       | dept_name   |   salary |\n",
    "|------:|:-----------|:------------|---------:|\n",
    "| 10101 | Srinivasan | Comp. Sci.  |    65000 |\n",
    "| 12121 | Wu         | Finance     |    90000 |\n",
    "| 15151 | Mozart     | Music       |    40000 |\n",
    "| 22222 | Einstein   | Physics     |    95000 |\n",
    "| 32343 | El Said    | History     |    60000 |\n",
    "| 33456 | Gold       | Physics     |    87000 |\n",
    "| 45565 | Katz       | Comp. Sci.  |    75000 |\n",
    "| 58583 | Califieri  | History     |    62000 |\n",
    "| 76543 | Singh      | Finance     |    80000 |\n",
    "| 76766 | Crick      | Biology     |    72000 |\n",
    "| 83821 | Brandt     | Comp. Sci.  |    92000 |\n",
    "| 98345 | Kim        | Elec. Eng.  |    80000 |\n"
   ]
  },
  {
   "cell_type": "markdown",
   "id": "eleven-concord",
   "metadata": {
    "slideshow": {
     "slide_type": "slide"
    }
   },
   "source": [
    "## Schema Evolution\n",
    "\n",
    "- Database design is usually not a one-time activity. \n",
    "- The needs of an organization evolve continually, and the data that it needs to store also evolve correspondingly.\n",
    "- Changes in the schema can affect all aspects of the database application."
   ]
  },
  {
   "cell_type": "markdown",
   "id": "assumed-revolution",
   "metadata": {
    "slideshow": {
     "slide_type": "slide"
    }
   },
   "source": [
    "## Schema for instructor relation\n",
    "\n",
    "Lets say that we want to add a phone number for instructors.\n",
    "\n",
    "### Option 1\n",
    "\n",
    "We could simply add an attribute *phone_number* to the _instructor_ relation.\n",
    "\n",
    "![Figure 6.3(a): Schema diagram for instructor relation](figures/ERD-instructor-Option_a.png)\n"
   ]
  },
  {
   "cell_type": "markdown",
   "id": "liable-packaging",
   "metadata": {
    "slideshow": {
     "slide_type": "fragment"
    }
   },
   "source": [
    "#### ALTER TABLE Command\n",
    "\n",
    "In SQLite, we add a new column `phone_number` to the `instructor` table as follows:\n",
    "\n",
    "```sql\n",
    "ALTER TABLE instructor ADD COLUMN phone_number varchar(12);\n",
    "```"
   ]
  },
  {
   "cell_type": "code",
   "execution_count": 23,
   "id": "portable-mills",
   "metadata": {
    "slideshow": {
     "slide_type": "skip"
    },
    "tags": [
     "remove_cell"
    ]
   },
   "outputs": [
    {
     "name": "stdout",
     "output_type": "stream",
     "text": [
      " * sqlite:///resources/sql.db\n",
      "Done.\n"
     ]
    },
    {
     "data": {
      "text/plain": [
       "[]"
      ]
     },
     "execution_count": 23,
     "metadata": {},
     "output_type": "execute_result"
    }
   ],
   "source": [
    "%sql ALTER TABLE instructor ADD COLUMN phone_number varchar(12);"
   ]
  },
  {
   "cell_type": "code",
   "execution_count": 29,
   "id": "mobile-belly",
   "metadata": {
    "slideshow": {
     "slide_type": "skip"
    },
    "tags": [
     "remove_cell"
    ]
   },
   "outputs": [],
   "source": [
    "import random\n",
    "def random_phone_num_generator():\n",
    "    first = str(random.randint(100, 999))\n",
    "    second = str(random.randint(1, 888)).zfill(3)\n",
    "\n",
    "    last = (str(random.randint(1, 9998)).zfill(4))\n",
    "    while last in ['1111', '2222', '3333', '4444', '5555', '6666', '7777', '8888']:\n",
    "        last = (str(random.randint(1, 9998)).zfill(4))\n",
    "\n",
    "    return '{}-{}-{}'.format(first, second, last)"
   ]
  },
  {
   "cell_type": "code",
   "execution_count": 32,
   "id": "hourly-group",
   "metadata": {
    "slideshow": {
     "slide_type": "skip"
    },
    "tags": [
     "remove_cell"
    ]
   },
   "outputs": [
    {
     "name": "stdout",
     "output_type": "stream",
     "text": [
      " * sqlite:///resources/sql.db\n",
      "Done.\n",
      "UPDATE instructor SET phone_number = '999-113-1268' WHERE ID = 10101;\n",
      "UPDATE instructor SET phone_number = '761-856-0718' WHERE ID = 12121;\n",
      "UPDATE instructor SET phone_number = '274-715-6841' WHERE ID = 15151;\n",
      "UPDATE instructor SET phone_number = '727-780-1695' WHERE ID = 22222;\n",
      "UPDATE instructor SET phone_number = '118-354-8109' WHERE ID = 32343;\n",
      "UPDATE instructor SET phone_number = '589-847-6616' WHERE ID = 33456;\n",
      "UPDATE instructor SET phone_number = '740-333-3446' WHERE ID = 45565;\n",
      "UPDATE instructor SET phone_number = '749-361-2350' WHERE ID = 58583;\n",
      "UPDATE instructor SET phone_number = '856-262-2788' WHERE ID = 76543;\n",
      "UPDATE instructor SET phone_number = '418-409-7638' WHERE ID = 76766;\n",
      "UPDATE instructor SET phone_number = '973-587-6940' WHERE ID = 83821;\n",
      "UPDATE instructor SET phone_number = '548-012-7539' WHERE ID = 98345;\n"
     ]
    }
   ],
   "source": [
    "result = %sql select ID from instructor;\n",
    "num_instructors = len(result)\n",
    "\n",
    "gen_phone_numbers = [random_phone_num_generator() for i in range(num_instructors)]\n",
    "assert len(gen_phone_numbers) == len(set(gen_phone_numbers))\n",
    "update_commands = []\n",
    "\n",
    "for idx, record in enumerate(result):\n",
    "    uid = record[0]\n",
    "    update = f\"UPDATE instructor SET phone_number = '{gen_phone_numbers[idx]}' WHERE ID = {uid};\"\n",
    "    update_commands.append(update)\n",
    "    print(update)"
   ]
  },
  {
   "cell_type": "code",
   "execution_count": null,
   "id": "connected-narrative",
   "metadata": {
    "slideshow": {
     "slide_type": "skip"
    },
    "tags": [
     "remove_cell"
    ]
   },
   "outputs": [],
   "source": [
    "test = 'SELECT * FROM instructor;'\n",
    "%sql $test"
   ]
  },
  {
   "cell_type": "code",
   "execution_count": 36,
   "id": "nasty-laptop",
   "metadata": {
    "slideshow": {
     "slide_type": "skip"
    },
    "tags": [
     "remove_cell"
    ]
   },
   "outputs": [
    {
     "name": "stdout",
     "output_type": "stream",
     "text": [
      " * sqlite:///resources/sql.db\n",
      "1 rows affected.\n",
      " * sqlite:///resources/sql.db\n",
      "1 rows affected.\n",
      " * sqlite:///resources/sql.db\n",
      "1 rows affected.\n",
      " * sqlite:///resources/sql.db\n",
      "1 rows affected.\n",
      " * sqlite:///resources/sql.db\n",
      "1 rows affected.\n",
      " * sqlite:///resources/sql.db\n",
      "1 rows affected.\n",
      " * sqlite:///resources/sql.db\n",
      "1 rows affected.\n",
      " * sqlite:///resources/sql.db\n",
      "1 rows affected.\n",
      " * sqlite:///resources/sql.db\n",
      "1 rows affected.\n",
      " * sqlite:///resources/sql.db\n",
      "1 rows affected.\n",
      " * sqlite:///resources/sql.db\n",
      "1 rows affected.\n",
      " * sqlite:///resources/sql.db\n",
      "1 rows affected.\n"
     ]
    }
   ],
   "source": [
    "for update in update_commands:\n",
    "    %sql $update"
   ]
  },
  {
   "cell_type": "markdown",
   "id": "rotary-century",
   "metadata": {
    "slideshow": {
     "slide_type": "slide"
    }
   },
   "source": [
    "#### Update Records\n",
    "\n",
    "Then, we can add phone numbers for each instructor using `UPDATE`\n",
    "\n",
    "```sql\n",
    "UPDATE instructor SET phone_number = '999-113-1268' WHERE ID = 10101;\n",
    "UPDATE instructor SET phone_number = '761-856-0718' WHERE ID = 12121;\n",
    "UPDATE instructor SET phone_number = '274-715-6841' WHERE ID = 15151;\n",
    "UPDATE instructor SET phone_number = '727-780-1695' WHERE ID = 22222;\n",
    "UPDATE instructor SET phone_number = '118-354-8109' WHERE ID = 32343;\n",
    "UPDATE instructor SET phone_number = '589-847-6616' WHERE ID = 33456;\n",
    "UPDATE instructor SET phone_number = '740-333-3446' WHERE ID = 45565;\n",
    "UPDATE instructor SET phone_number = '749-361-2350' WHERE ID = 58583;\n",
    "UPDATE instructor SET phone_number = '856-262-2788' WHERE ID = 76543;\n",
    "UPDATE instructor SET phone_number = '418-409-7638' WHERE ID = 76766;\n",
    "UPDATE instructor SET phone_number = '973-587-6940' WHERE ID = 83821;\n",
    "UPDATE instructor SET phone_number = '548-012-7539' WHERE ID = 98345;\n",
    "```"
   ]
  },
  {
   "cell_type": "code",
   "execution_count": 37,
   "id": "photographic-shoulder",
   "metadata": {
    "slideshow": {
     "slide_type": "skip"
    },
    "tags": [
     "remove_cell"
    ]
   },
   "outputs": [
    {
     "name": "stdout",
     "output_type": "stream",
     "text": [
      " * sqlite:///resources/sql.db\n",
      "Done.\n",
      "|    ID | name       | dept_name   |   salary | phone_number   |\n",
      "|------:|:-----------|:------------|---------:|:---------------|\n",
      "| 10101 | Srinivasan | Comp. Sci.  |    65000 | 999-113-1268   |\n",
      "| 12121 | Wu         | Finance     |    90000 | 761-856-0718   |\n",
      "| 15151 | Mozart     | Music       |    40000 | 274-715-6841   |\n",
      "| 22222 | Einstein   | Physics     |    95000 | 727-780-1695   |\n",
      "| 32343 | El Said    | History     |    60000 | 118-354-8109   |\n",
      "| 33456 | Gold       | Physics     |    87000 | 589-847-6616   |\n",
      "| 45565 | Katz       | Comp. Sci.  |    75000 | 740-333-3446   |\n",
      "| 58583 | Califieri  | History     |    62000 | 749-361-2350   |\n",
      "| 76543 | Singh      | Finance     |    80000 | 856-262-2788   |\n",
      "| 76766 | Crick      | Biology     |    72000 | 418-409-7638   |\n",
      "| 83821 | Brandt     | Comp. Sci.  |    92000 | 973-587-6940   |\n",
      "| 98345 | Kim        | Elec. Eng.  |    80000 | 548-012-7539   |\n"
     ]
    }
   ],
   "source": [
    "result = %sql select * from instructor;\n",
    "result = result.DataFrame()\n",
    "print(result.to_markdown(index=False))"
   ]
  },
  {
   "cell_type": "markdown",
   "id": "peaceful-communication",
   "metadata": {
    "slideshow": {
     "slide_type": "slide"
    }
   },
   "source": [
    "#### Updated Table\n",
    "\n",
    "Here's the `instructor` table with `phone_number` column and values we inserted:\n",
    "\n",
    "|    ID | name       | dept_name   |   salary | phone_number   |\n",
    "|------:|:-----------|:------------|---------:|:---------------|\n",
    "| 10101 | Srinivasan | Comp. Sci.  |    65000 | 999-113-1268   |\n",
    "| 12121 | Wu         | Finance     |    90000 | 761-856-0718   |\n",
    "| 15151 | Mozart     | Music       |    40000 | 274-715-6841   |\n",
    "| 22222 | Einstein   | Physics     |    95000 | 727-780-1695   |\n",
    "| 32343 | El Said    | History     |    60000 | 118-354-8109   |\n",
    "| 33456 | Gold       | Physics     |    87000 | 589-847-6616   |\n",
    "| 45565 | Katz       | Comp. Sci.  |    75000 | 740-333-3446   |\n",
    "| 58583 | Califieri  | History     |    62000 | 749-361-2350   |\n",
    "| 76543 | Singh      | Finance     |    80000 | 856-262-2788   |\n",
    "| 76766 | Crick      | Biology     |    72000 | 418-409-7638   |\n",
    "| 83821 | Brandt     | Comp. Sci.  |    92000 | 973-587-6940   |\n",
    "| 98345 | Kim        | Elec. Eng.  |    80000 | 548-012-7539   |"
   ]
  },
  {
   "cell_type": "markdown",
   "id": "double-allowance",
   "metadata": {
    "slideshow": {
     "slide_type": "slide"
    }
   },
   "source": [
    "## Schema for instructor relation\n",
    "\n",
    "What if we want to have multiple phone number for instructors?"
   ]
  },
  {
   "cell_type": "markdown",
   "id": "purple-sunset",
   "metadata": {
    "slideshow": {
     "slide_type": "fragment"
    }
   },
   "source": [
    "### Option 2\n",
    "\n",
    "If we make the attribute _phone\\_number_ part of the primary key, then we could have multiple phone numbers per instructor.\n",
    "\n",
    "![Figure 6.3(a): Schema diagram for instructor relation](figures/ERD-instructor-Option_a_alt.png)\n",
    "\n",
    "#### Example data\n",
    "\n",
    "|    ID | name       | dept_name   |   salary | phone_number   |\n",
    "|------:|:-----------|:------------|---------:|:---------------|\n",
    "| 10101 | Srinivasan | Comp. Sci.  |    65000 | 999-113-1268   |\n",
    "| 10101 | Srinivasan | Comp. Sci.  |    65000 | 906-214-7631   |\n",
    "\n",
    "What's wrong with this approach?"
   ]
  },
  {
   "cell_type": "markdown",
   "id": "charged-portable",
   "metadata": {
    "slideshow": {
     "slide_type": "fragment"
    }
   },
   "source": [
    "It creates redundancy in the database (breaking Boyce-Codd Normal Form)."
   ]
  },
  {
   "cell_type": "markdown",
   "id": "relative-support",
   "metadata": {
    "slideshow": {
     "slide_type": "slide"
    }
   },
   "source": [
    "## Schema for instructor relation\n",
    "\n",
    "What if we want to have multiple phone number for instructors?\n",
    "\n",
    "### Option 3\n",
    "\n",
    "Use of phone as an entity allows extra information about phone numbers (plus multiple phone numbers).\n",
    "\n",
    "![Figure 6.3(b): Schema diagram for instructor relation](figures/ERD-instructor-Option_b.png)"
   ]
  },
  {
   "cell_type": "markdown",
   "id": "centered-schema",
   "metadata": {
    "slideshow": {
     "slide_type": "slide"
    }
   },
   "source": [
    "##### SQLite ALTER TABLE\n",
    "\n",
    "- SQLite supports a limited subset of `ALTER TABLE`. \n",
    "- The `ALTER TABLE` command in SQLite allows the user to rename a table or to add a new column to an existing table. \n",
    "- It is **not possible** to:\n",
    "  - _rename_ or _remove_ a column, or \n",
    "  - _add_ or _remove_ constraints from a table."
   ]
  },
  {
   "cell_type": "markdown",
   "id": "entertaining-hindu",
   "metadata": {
    "slideshow": {
     "slide_type": "fragment"
    }
   },
   "source": [
    "Therefore, the following will **not work** on SQLite:\n",
    "\n",
    "```sql\n",
    "ALTER TABLE instructor DROP COLUMN phone_number;\n",
    "```"
   ]
  },
  {
   "cell_type": "markdown",
   "id": "toxic-database",
   "metadata": {
    "slideshow": {
     "slide_type": "slide"
    }
   },
   "source": [
    "To \"undo\" the changes from Option (a), we can do the following:\n",
    "\n",
    "1. create new table without the `phone_number` column,\n",
    "2. copy all records,\n",
    "3. drop the old table,\n",
    "4. rename the new table."
   ]
  },
  {
   "cell_type": "markdown",
   "id": "driven-prophet",
   "metadata": {
    "slideshow": {
     "slide_type": "subslide"
    }
   },
   "source": [
    "#### 1. Create new instructor table\n",
    "\n",
    "```sql\n",
    "CREATE TABLE instructor_new\n",
    "    (ID             varchar(5), \n",
    "     name           varchar(20) NOT NULL, \n",
    "     dept_name      varchar(20), \n",
    "     salary         numeric(8,2) check (salary > 29000),\n",
    "     primary key (ID),\n",
    "     foreign key (dept_name) references department (dept_name)\n",
    "        ON DELETE SET NULL\n",
    "    );\n",
    "```"
   ]
  },
  {
   "cell_type": "code",
   "execution_count": 39,
   "id": "shared-glasgow",
   "metadata": {
    "slideshow": {
     "slide_type": "skip"
    },
    "tags": [
     "remove_cell"
    ]
   },
   "outputs": [
    {
     "name": "stdout",
     "output_type": "stream",
     "text": [
      " * sqlite:///resources/sql.db\n",
      "Done.\n"
     ]
    },
    {
     "data": {
      "text/plain": [
       "[]"
      ]
     },
     "execution_count": 39,
     "metadata": {},
     "output_type": "execute_result"
    }
   ],
   "source": [
    "%%sql\n",
    "CREATE TABLE instructor_new\n",
    "    (ID             varchar(5), \n",
    "     name           varchar(20) NOT NULL, \n",
    "     dept_name      varchar(20), \n",
    "     salary         numeric(8,2) check (salary > 29000),\n",
    "     primary key (ID),\n",
    "     foreign key (dept_name) references department (dept_name)\n",
    "        ON DELETE SET NULL\n",
    "    );"
   ]
  },
  {
   "cell_type": "markdown",
   "id": "classical-joint",
   "metadata": {
    "slideshow": {
     "slide_type": "subslide"
    }
   },
   "source": [
    "#### 2. Copy all records\n",
    "\n",
    "```sql\n",
    "INSERT INTO instructor_new\n",
    "SELECT instructor.ID, instructor.name, instructor.dept_name, instructor.salary\n",
    "FROM instructor;\n",
    "```"
   ]
  },
  {
   "cell_type": "code",
   "execution_count": 46,
   "id": "sixth-division",
   "metadata": {
    "slideshow": {
     "slide_type": "skip"
    },
    "tags": [
     "remove_cell"
    ]
   },
   "outputs": [
    {
     "name": "stdout",
     "output_type": "stream",
     "text": [
      " * sqlite:///resources/sql.db\n",
      "12 rows affected.\n"
     ]
    },
    {
     "data": {
      "text/plain": [
       "[]"
      ]
     },
     "execution_count": 46,
     "metadata": {},
     "output_type": "execute_result"
    }
   ],
   "source": [
    "%%sql \n",
    "INSERT INTO instructor_new\n",
    "SELECT instructor.ID, instructor.name, instructor.dept_name, instructor.salary\n",
    "FROM instructor;"
   ]
  },
  {
   "cell_type": "markdown",
   "id": "demonstrated-retreat",
   "metadata": {
    "slideshow": {
     "slide_type": "subslide"
    }
   },
   "source": [
    "#### 3. Drop old table\n",
    "\n",
    "```sql\n",
    "DROP TABLE instructor;\n",
    "```"
   ]
  },
  {
   "cell_type": "code",
   "execution_count": 47,
   "id": "enhanced-cause",
   "metadata": {
    "slideshow": {
     "slide_type": "skip"
    },
    "tags": [
     "remove_cell"
    ]
   },
   "outputs": [
    {
     "name": "stdout",
     "output_type": "stream",
     "text": [
      " * sqlite:///resources/sql.db\n",
      "Done.\n"
     ]
    },
    {
     "data": {
      "text/plain": [
       "[]"
      ]
     },
     "execution_count": 47,
     "metadata": {},
     "output_type": "execute_result"
    }
   ],
   "source": [
    "%sql DROP TABLE instructor;"
   ]
  },
  {
   "cell_type": "markdown",
   "id": "catholic-swing",
   "metadata": {
    "slideshow": {
     "slide_type": "subslide"
    }
   },
   "source": [
    "#### 4. Rename new table\n",
    "\n",
    "```sql\n",
    "ALTER TABLE instructor_new RENAME TO instructor;\n",
    "```"
   ]
  },
  {
   "cell_type": "code",
   "execution_count": 48,
   "id": "missing-brunei",
   "metadata": {
    "slideshow": {
     "slide_type": "skip"
    },
    "tags": [
     "remove_cell"
    ]
   },
   "outputs": [
    {
     "name": "stdout",
     "output_type": "stream",
     "text": [
      " * sqlite:///resources/sql.db\n",
      "Done.\n"
     ]
    },
    {
     "data": {
      "text/html": [
       "<table>\n",
       "    <tr>\n",
       "        <th>1</th>\n",
       "    </tr>\n",
       "</table>"
      ],
      "text/plain": [
       "[]"
      ]
     },
     "execution_count": 48,
     "metadata": {},
     "output_type": "execute_result"
    }
   ],
   "source": [
    "%sql ALTER TABLE instructor_new RENAME TO instructor;"
   ]
  },
  {
   "cell_type": "markdown",
   "id": "absolute-rwanda",
   "metadata": {
    "slideshow": {
     "slide_type": "slide"
    }
   },
   "source": [
    "## Schema for instructor relation\n",
    "\n",
    "What if we want to have multiple phone number for instructors?\n",
    "\n",
    "### Option 3\n",
    "\n",
    "![Figure 6.3(b): Schema diagram for instructor relation](figures/ERD-instructor-Option_b.png)"
   ]
  },
  {
   "cell_type": "markdown",
   "id": "secure-tyler",
   "metadata": {
    "slideshow": {
     "slide_type": "slide"
    }
   },
   "source": [
    "#### SQL data definitions\n",
    "\n",
    "Create a tables to store and assign the phone numbers:\n",
    "\n",
    "```sql\n",
    "CREATE TABLE phone\n",
    "    (phone_number   varchar(12), \n",
    "     location       varchar(6)\n",
    "             CHECK (location IN ('Office', 'Cell', 'Home', 'Other')),\n",
    "     PRIMARY KEY (phone_number)\n",
    "    );\n",
    "    \n",
    "CREATE TABLE phone_inst\n",
    "    (ID             varchar(5),\n",
    "     phone_number   varchar(12), \n",
    "     PRIMARY KEY (ID, phone_number),\n",
    "     FOREIGN KEY (ID) REFERENCES instructor\n",
    "            ON DELETE CASCADE,\n",
    "     FOREIGN KEY (ID) REFERENCES instructor\n",
    "            ON DELETE CASCADE\n",
    "    );\n",
    "```\n"
   ]
  },
  {
   "cell_type": "code",
   "execution_count": 50,
   "id": "devoted-carolina",
   "metadata": {
    "slideshow": {
     "slide_type": "skip"
    },
    "tags": [
     "remove_cell"
    ]
   },
   "outputs": [
    {
     "name": "stdout",
     "output_type": "stream",
     "text": [
      " * sqlite:///resources/sql.db\n",
      "Done.\n",
      "Done.\n"
     ]
    },
    {
     "data": {
      "text/plain": [
       "[]"
      ]
     },
     "execution_count": 50,
     "metadata": {},
     "output_type": "execute_result"
    }
   ],
   "source": [
    "%%sql\n",
    "\n",
    "CREATE TABLE phone\n",
    "    (phone_number   varchar(12), \n",
    "     location       varchar(6)\n",
    "             CHECK (location IN ('Office', 'Cell', 'Home', 'Other')),\n",
    "     PRIMARY KEY (phone_number)\n",
    "    );\n",
    "    \n",
    "CREATE TABLE phone_inst\n",
    "    (ID             varchar(5),\n",
    "     phone_number   varchar(12), \n",
    "     PRIMARY KEY (ID, phone_number),\n",
    "     FOREIGN KEY (ID) REFERENCES instructor\n",
    "            ON DELETE CASCADE,\n",
    "     FOREIGN KEY (ID) REFERENCES instructor\n",
    "            ON DELETE CASCADE\n",
    "    );"
   ]
  },
  {
   "cell_type": "code",
   "execution_count": 54,
   "id": "bulgarian-hazard",
   "metadata": {
    "slideshow": {
     "slide_type": "skip"
    },
    "tags": [
     "remove_cell"
    ]
   },
   "outputs": [],
   "source": [
    "result = %sql select ID from instructor;\n",
    "num_instructors = len(result)\n",
    "\n",
    "alt_phone_numbers = [random_phone_num_generator() for i in range(num_instructors)]\n",
    "assert len(alt_phone_numbers) == len(set(alt_phone_numbers))\n",
    "locations = {'Office': gen_phone_numbers, 'Cell': alt_phone_numbers}\n",
    "\n",
    "phone_commands = []\n",
    "phone_inst_commands = []\n",
    "for location in ['Office', 'Cell']:\n",
    "    for idx, record in enumerate(result):\n",
    "        uid = record[0]\n",
    "        phone = locations[location][idx]\n",
    "        \n",
    "        # phone table\n",
    "        insert = f\"INSERT INTO phone VALUES ('{phone}', '{location}');\"\n",
    "        phone_commands.append(insert)\n",
    "        \n",
    "        # phone_inst table\n",
    "        insert = f\"INSERT INTO phone_inst VALUES ('{uid}', '{phone}');\"\n",
    "        phone_inst_commands.append(insert)"
   ]
  },
  {
   "cell_type": "markdown",
   "id": "racial-feelings",
   "metadata": {
    "slideshow": {
     "slide_type": "slide"
    }
   },
   "source": [
    "#### INSERT Commands for Table: phone\n",
    "\n",
    "These will add the phone numbers:\n",
    "\n",
    "```sql\n",
    "INSERT INTO phone VALUES ('999-113-1268', 'Office');\n",
    "INSERT INTO phone VALUES ('761-856-0718', 'Office');\n",
    "INSERT INTO phone VALUES ('274-715-6841', 'Office');\n",
    "INSERT INTO phone VALUES ('727-780-1695', 'Office');\n",
    "INSERT INTO phone VALUES ('118-354-8109', 'Office');\n",
    "INSERT INTO phone VALUES ('589-847-6616', 'Office');\n",
    "INSERT INTO phone VALUES ('740-333-3446', 'Office');\n",
    "INSERT INTO phone VALUES ('749-361-2350', 'Office');\n",
    "INSERT INTO phone VALUES ('856-262-2788', 'Office');\n",
    "INSERT INTO phone VALUES ('418-409-7638', 'Office');\n",
    "INSERT INTO phone VALUES ('973-587-6940', 'Office');\n",
    "INSERT INTO phone VALUES ('548-012-7539', 'Office');\n",
    "INSERT INTO phone VALUES ('906-214-7631', 'Cell');\n",
    "INSERT INTO phone VALUES ('851-591-5780', 'Cell');\n",
    "INSERT INTO phone VALUES ('233-467-9285', 'Cell');\n",
    "INSERT INTO phone VALUES ('318-795-0911', 'Cell');\n",
    "INSERT INTO phone VALUES ('526-242-8559', 'Cell');\n",
    "INSERT INTO phone VALUES ('488-016-4674', 'Cell');\n",
    "INSERT INTO phone VALUES ('403-866-7060', 'Cell');\n",
    "INSERT INTO phone VALUES ('540-653-4106', 'Cell');\n",
    "INSERT INTO phone VALUES ('202-866-8444', 'Cell');\n",
    "INSERT INTO phone VALUES ('407-517-2335', 'Cell');\n",
    "INSERT INTO phone VALUES ('559-565-8598', 'Cell');\n",
    "INSERT INTO phone VALUES ('804-869-1214', 'Cell');\n",
    "```"
   ]
  },
  {
   "cell_type": "code",
   "execution_count": 57,
   "id": "dressed-result",
   "metadata": {
    "slideshow": {
     "slide_type": "skip"
    },
    "tags": [
     "remove_cell"
    ]
   },
   "outputs": [
    {
     "name": "stdout",
     "output_type": "stream",
     "text": [
      "INSERT INTO phone VALUES ('999-113-1268', 'Office');\n",
      "INSERT INTO phone VALUES ('761-856-0718', 'Office');\n",
      "INSERT INTO phone VALUES ('274-715-6841', 'Office');\n",
      "INSERT INTO phone VALUES ('727-780-1695', 'Office');\n",
      "INSERT INTO phone VALUES ('118-354-8109', 'Office');\n",
      "INSERT INTO phone VALUES ('589-847-6616', 'Office');\n",
      "INSERT INTO phone VALUES ('740-333-3446', 'Office');\n",
      "INSERT INTO phone VALUES ('749-361-2350', 'Office');\n",
      "INSERT INTO phone VALUES ('856-262-2788', 'Office');\n",
      "INSERT INTO phone VALUES ('418-409-7638', 'Office');\n",
      "INSERT INTO phone VALUES ('973-587-6940', 'Office');\n",
      "INSERT INTO phone VALUES ('548-012-7539', 'Office');\n",
      "INSERT INTO phone VALUES ('906-214-7631', 'Cell');\n",
      "INSERT INTO phone VALUES ('851-591-5780', 'Cell');\n",
      "INSERT INTO phone VALUES ('233-467-9285', 'Cell');\n",
      "INSERT INTO phone VALUES ('318-795-0911', 'Cell');\n",
      "INSERT INTO phone VALUES ('526-242-8559', 'Cell');\n",
      "INSERT INTO phone VALUES ('488-016-4674', 'Cell');\n",
      "INSERT INTO phone VALUES ('403-866-7060', 'Cell');\n",
      "INSERT INTO phone VALUES ('540-653-4106', 'Cell');\n",
      "INSERT INTO phone VALUES ('202-866-8444', 'Cell');\n",
      "INSERT INTO phone VALUES ('407-517-2335', 'Cell');\n",
      "INSERT INTO phone VALUES ('559-565-8598', 'Cell');\n",
      "INSERT INTO phone VALUES ('804-869-1214', 'Cell');\n",
      " * sqlite:///resources/sql.db\n",
      "1 rows affected.\n",
      " * sqlite:///resources/sql.db\n",
      "1 rows affected.\n",
      " * sqlite:///resources/sql.db\n",
      "1 rows affected.\n",
      " * sqlite:///resources/sql.db\n",
      "1 rows affected.\n",
      " * sqlite:///resources/sql.db\n",
      "1 rows affected.\n",
      " * sqlite:///resources/sql.db\n",
      "1 rows affected.\n",
      " * sqlite:///resources/sql.db\n",
      "1 rows affected.\n",
      " * sqlite:///resources/sql.db\n",
      "1 rows affected.\n",
      " * sqlite:///resources/sql.db\n",
      "1 rows affected.\n",
      " * sqlite:///resources/sql.db\n",
      "1 rows affected.\n",
      " * sqlite:///resources/sql.db\n",
      "1 rows affected.\n",
      " * sqlite:///resources/sql.db\n",
      "1 rows affected.\n",
      " * sqlite:///resources/sql.db\n",
      "1 rows affected.\n",
      " * sqlite:///resources/sql.db\n",
      "1 rows affected.\n",
      " * sqlite:///resources/sql.db\n",
      "1 rows affected.\n",
      " * sqlite:///resources/sql.db\n",
      "1 rows affected.\n",
      " * sqlite:///resources/sql.db\n",
      "1 rows affected.\n",
      " * sqlite:///resources/sql.db\n",
      "1 rows affected.\n",
      " * sqlite:///resources/sql.db\n",
      "1 rows affected.\n",
      " * sqlite:///resources/sql.db\n",
      "1 rows affected.\n",
      " * sqlite:///resources/sql.db\n",
      "1 rows affected.\n",
      " * sqlite:///resources/sql.db\n",
      "1 rows affected.\n",
      " * sqlite:///resources/sql.db\n",
      "1 rows affected.\n",
      " * sqlite:///resources/sql.db\n",
      "1 rows affected.\n"
     ]
    }
   ],
   "source": [
    "for insert in phone_commands:\n",
    "    print(insert)\n",
    "\n",
    "for insert in phone_commands:\n",
    "    %sql $insert"
   ]
  },
  {
   "cell_type": "markdown",
   "id": "photographic-stamp",
   "metadata": {
    "slideshow": {
     "slide_type": "slide"
    }
   },
   "source": [
    "#### INSERT Commands for Table: phone_inst\n",
    "\n",
    "These will assign phone numbers to the instructors:\n",
    "\n",
    "```sql\n",
    "INSERT INTO phone_inst VALUES ('10101', '999-113-1268');\n",
    "INSERT INTO phone_inst VALUES ('12121', '761-856-0718');\n",
    "INSERT INTO phone_inst VALUES ('15151', '274-715-6841');\n",
    "INSERT INTO phone_inst VALUES ('22222', '727-780-1695');\n",
    "INSERT INTO phone_inst VALUES ('32343', '118-354-8109');\n",
    "INSERT INTO phone_inst VALUES ('33456', '589-847-6616');\n",
    "INSERT INTO phone_inst VALUES ('45565', '740-333-3446');\n",
    "INSERT INTO phone_inst VALUES ('58583', '749-361-2350');\n",
    "INSERT INTO phone_inst VALUES ('76543', '856-262-2788');\n",
    "INSERT INTO phone_inst VALUES ('76766', '418-409-7638');\n",
    "INSERT INTO phone_inst VALUES ('83821', '973-587-6940');\n",
    "INSERT INTO phone_inst VALUES ('98345', '548-012-7539');\n",
    "INSERT INTO phone_inst VALUES ('10101', '906-214-7631');\n",
    "INSERT INTO phone_inst VALUES ('12121', '851-591-5780');\n",
    "INSERT INTO phone_inst VALUES ('15151', '233-467-9285');\n",
    "INSERT INTO phone_inst VALUES ('22222', '318-795-0911');\n",
    "INSERT INTO phone_inst VALUES ('32343', '526-242-8559');\n",
    "INSERT INTO phone_inst VALUES ('33456', '488-016-4674');\n",
    "INSERT INTO phone_inst VALUES ('45565', '403-866-7060');\n",
    "INSERT INTO phone_inst VALUES ('58583', '540-653-4106');\n",
    "INSERT INTO phone_inst VALUES ('76543', '202-866-8444');\n",
    "INSERT INTO phone_inst VALUES ('76766', '407-517-2335');\n",
    "INSERT INTO phone_inst VALUES ('83821', '559-565-8598');\n",
    "INSERT INTO phone_inst VALUES ('98345', '804-869-1214');\n",
    "```"
   ]
  },
  {
   "cell_type": "code",
   "execution_count": 58,
   "id": "romance-place",
   "metadata": {
    "slideshow": {
     "slide_type": "skip"
    },
    "tags": [
     "remove_cell"
    ]
   },
   "outputs": [
    {
     "name": "stdout",
     "output_type": "stream",
     "text": [
      "INSERT INTO phone_inst VALUES ('10101', '999-113-1268');\n",
      "INSERT INTO phone_inst VALUES ('12121', '761-856-0718');\n",
      "INSERT INTO phone_inst VALUES ('15151', '274-715-6841');\n",
      "INSERT INTO phone_inst VALUES ('22222', '727-780-1695');\n",
      "INSERT INTO phone_inst VALUES ('32343', '118-354-8109');\n",
      "INSERT INTO phone_inst VALUES ('33456', '589-847-6616');\n",
      "INSERT INTO phone_inst VALUES ('45565', '740-333-3446');\n",
      "INSERT INTO phone_inst VALUES ('58583', '749-361-2350');\n",
      "INSERT INTO phone_inst VALUES ('76543', '856-262-2788');\n",
      "INSERT INTO phone_inst VALUES ('76766', '418-409-7638');\n",
      "INSERT INTO phone_inst VALUES ('83821', '973-587-6940');\n",
      "INSERT INTO phone_inst VALUES ('98345', '548-012-7539');\n",
      "INSERT INTO phone_inst VALUES ('10101', '906-214-7631');\n",
      "INSERT INTO phone_inst VALUES ('12121', '851-591-5780');\n",
      "INSERT INTO phone_inst VALUES ('15151', '233-467-9285');\n",
      "INSERT INTO phone_inst VALUES ('22222', '318-795-0911');\n",
      "INSERT INTO phone_inst VALUES ('32343', '526-242-8559');\n",
      "INSERT INTO phone_inst VALUES ('33456', '488-016-4674');\n",
      "INSERT INTO phone_inst VALUES ('45565', '403-866-7060');\n",
      "INSERT INTO phone_inst VALUES ('58583', '540-653-4106');\n",
      "INSERT INTO phone_inst VALUES ('76543', '202-866-8444');\n",
      "INSERT INTO phone_inst VALUES ('76766', '407-517-2335');\n",
      "INSERT INTO phone_inst VALUES ('83821', '559-565-8598');\n",
      "INSERT INTO phone_inst VALUES ('98345', '804-869-1214');\n",
      "\n",
      " * sqlite:///resources/sql.db\n",
      "1 rows affected.\n",
      " * sqlite:///resources/sql.db\n",
      "1 rows affected.\n",
      " * sqlite:///resources/sql.db\n",
      "1 rows affected.\n",
      " * sqlite:///resources/sql.db\n",
      "1 rows affected.\n",
      " * sqlite:///resources/sql.db\n",
      "1 rows affected.\n",
      " * sqlite:///resources/sql.db\n",
      "1 rows affected.\n",
      " * sqlite:///resources/sql.db\n",
      "1 rows affected.\n",
      " * sqlite:///resources/sql.db\n",
      "1 rows affected.\n",
      " * sqlite:///resources/sql.db\n",
      "1 rows affected.\n",
      " * sqlite:///resources/sql.db\n",
      "1 rows affected.\n",
      " * sqlite:///resources/sql.db\n",
      "1 rows affected.\n",
      " * sqlite:///resources/sql.db\n",
      "1 rows affected.\n",
      " * sqlite:///resources/sql.db\n",
      "1 rows affected.\n",
      " * sqlite:///resources/sql.db\n",
      "1 rows affected.\n",
      " * sqlite:///resources/sql.db\n",
      "1 rows affected.\n",
      " * sqlite:///resources/sql.db\n",
      "1 rows affected.\n",
      " * sqlite:///resources/sql.db\n",
      "1 rows affected.\n",
      " * sqlite:///resources/sql.db\n",
      "1 rows affected.\n",
      " * sqlite:///resources/sql.db\n",
      "1 rows affected.\n",
      " * sqlite:///resources/sql.db\n",
      "1 rows affected.\n",
      " * sqlite:///resources/sql.db\n",
      "1 rows affected.\n",
      " * sqlite:///resources/sql.db\n",
      "1 rows affected.\n",
      " * sqlite:///resources/sql.db\n",
      "1 rows affected.\n",
      " * sqlite:///resources/sql.db\n",
      "1 rows affected.\n"
     ]
    }
   ],
   "source": [
    "for insert in phone_inst_commands:\n",
    "    print(insert)\n",
    "print()\n",
    "for insert in phone_inst_commands:\n",
    "    %sql $insert"
   ]
  },
  {
   "cell_type": "code",
   "execution_count": 80,
   "id": "effective-terrace",
   "metadata": {
    "slideshow": {
     "slide_type": "skip"
    },
    "tags": [
     "remove_cell"
    ]
   },
   "outputs": [
    {
     "name": "stdout",
     "output_type": "stream",
     "text": [
      " * sqlite:///resources/sql.db\n",
      "Done.\n"
     ]
    },
    {
     "data": {
      "text/html": [
       "<table>\n",
       "    <tr>\n",
       "        <th>ID</th>\n",
       "        <th>name</th>\n",
       "        <th>phone_number</th>\n",
       "        <th>location</th>\n",
       "    </tr>\n",
       "    <tr>\n",
       "        <td>10101</td>\n",
       "        <td>Srinivasan</td>\n",
       "        <td>906-214-7631</td>\n",
       "        <td>Cell</td>\n",
       "    </tr>\n",
       "    <tr>\n",
       "        <td>10101</td>\n",
       "        <td>Srinivasan</td>\n",
       "        <td>999-113-1268</td>\n",
       "        <td>Office</td>\n",
       "    </tr>\n",
       "    <tr>\n",
       "        <td>12121</td>\n",
       "        <td>Wu</td>\n",
       "        <td>761-856-0718</td>\n",
       "        <td>Office</td>\n",
       "    </tr>\n",
       "    <tr>\n",
       "        <td>12121</td>\n",
       "        <td>Wu</td>\n",
       "        <td>851-591-5780</td>\n",
       "        <td>Cell</td>\n",
       "    </tr>\n",
       "    <tr>\n",
       "        <td>15151</td>\n",
       "        <td>Mozart</td>\n",
       "        <td>233-467-9285</td>\n",
       "        <td>Cell</td>\n",
       "    </tr>\n",
       "    <tr>\n",
       "        <td>15151</td>\n",
       "        <td>Mozart</td>\n",
       "        <td>274-715-6841</td>\n",
       "        <td>Office</td>\n",
       "    </tr>\n",
       "    <tr>\n",
       "        <td>22222</td>\n",
       "        <td>Einstein</td>\n",
       "        <td>318-795-0911</td>\n",
       "        <td>Cell</td>\n",
       "    </tr>\n",
       "    <tr>\n",
       "        <td>22222</td>\n",
       "        <td>Einstein</td>\n",
       "        <td>727-780-1695</td>\n",
       "        <td>Office</td>\n",
       "    </tr>\n",
       "    <tr>\n",
       "        <td>32343</td>\n",
       "        <td>El Said</td>\n",
       "        <td>118-354-8109</td>\n",
       "        <td>Office</td>\n",
       "    </tr>\n",
       "    <tr>\n",
       "        <td>32343</td>\n",
       "        <td>El Said</td>\n",
       "        <td>526-242-8559</td>\n",
       "        <td>Cell</td>\n",
       "    </tr>\n",
       "    <tr>\n",
       "        <td>33456</td>\n",
       "        <td>Gold</td>\n",
       "        <td>488-016-4674</td>\n",
       "        <td>Cell</td>\n",
       "    </tr>\n",
       "    <tr>\n",
       "        <td>33456</td>\n",
       "        <td>Gold</td>\n",
       "        <td>589-847-6616</td>\n",
       "        <td>Office</td>\n",
       "    </tr>\n",
       "    <tr>\n",
       "        <td>45565</td>\n",
       "        <td>Katz</td>\n",
       "        <td>403-866-7060</td>\n",
       "        <td>Cell</td>\n",
       "    </tr>\n",
       "    <tr>\n",
       "        <td>45565</td>\n",
       "        <td>Katz</td>\n",
       "        <td>740-333-3446</td>\n",
       "        <td>Office</td>\n",
       "    </tr>\n",
       "    <tr>\n",
       "        <td>58583</td>\n",
       "        <td>Califieri</td>\n",
       "        <td>540-653-4106</td>\n",
       "        <td>Cell</td>\n",
       "    </tr>\n",
       "    <tr>\n",
       "        <td>58583</td>\n",
       "        <td>Califieri</td>\n",
       "        <td>749-361-2350</td>\n",
       "        <td>Office</td>\n",
       "    </tr>\n",
       "    <tr>\n",
       "        <td>76543</td>\n",
       "        <td>Singh</td>\n",
       "        <td>202-866-8444</td>\n",
       "        <td>Cell</td>\n",
       "    </tr>\n",
       "    <tr>\n",
       "        <td>76543</td>\n",
       "        <td>Singh</td>\n",
       "        <td>856-262-2788</td>\n",
       "        <td>Office</td>\n",
       "    </tr>\n",
       "    <tr>\n",
       "        <td>76766</td>\n",
       "        <td>Crick</td>\n",
       "        <td>407-517-2335</td>\n",
       "        <td>Cell</td>\n",
       "    </tr>\n",
       "    <tr>\n",
       "        <td>76766</td>\n",
       "        <td>Crick</td>\n",
       "        <td>418-409-7638</td>\n",
       "        <td>Office</td>\n",
       "    </tr>\n",
       "    <tr>\n",
       "        <td>83821</td>\n",
       "        <td>Brandt</td>\n",
       "        <td>559-565-8598</td>\n",
       "        <td>Cell</td>\n",
       "    </tr>\n",
       "    <tr>\n",
       "        <td>83821</td>\n",
       "        <td>Brandt</td>\n",
       "        <td>973-587-6940</td>\n",
       "        <td>Office</td>\n",
       "    </tr>\n",
       "    <tr>\n",
       "        <td>98345</td>\n",
       "        <td>Kim</td>\n",
       "        <td>548-012-7539</td>\n",
       "        <td>Office</td>\n",
       "    </tr>\n",
       "    <tr>\n",
       "        <td>98345</td>\n",
       "        <td>Kim</td>\n",
       "        <td>804-869-1214</td>\n",
       "        <td>Cell</td>\n",
       "    </tr>\n",
       "</table>"
      ],
      "text/plain": [
       "[('10101', 'Srinivasan', '906-214-7631', 'Cell'),\n",
       " ('10101', 'Srinivasan', '999-113-1268', 'Office'),\n",
       " ('12121', 'Wu', '761-856-0718', 'Office'),\n",
       " ('12121', 'Wu', '851-591-5780', 'Cell'),\n",
       " ('15151', 'Mozart', '233-467-9285', 'Cell'),\n",
       " ('15151', 'Mozart', '274-715-6841', 'Office'),\n",
       " ('22222', 'Einstein', '318-795-0911', 'Cell'),\n",
       " ('22222', 'Einstein', '727-780-1695', 'Office'),\n",
       " ('32343', 'El Said', '118-354-8109', 'Office'),\n",
       " ('32343', 'El Said', '526-242-8559', 'Cell'),\n",
       " ('33456', 'Gold', '488-016-4674', 'Cell'),\n",
       " ('33456', 'Gold', '589-847-6616', 'Office'),\n",
       " ('45565', 'Katz', '403-866-7060', 'Cell'),\n",
       " ('45565', 'Katz', '740-333-3446', 'Office'),\n",
       " ('58583', 'Califieri', '540-653-4106', 'Cell'),\n",
       " ('58583', 'Califieri', '749-361-2350', 'Office'),\n",
       " ('76543', 'Singh', '202-866-8444', 'Cell'),\n",
       " ('76543', 'Singh', '856-262-2788', 'Office'),\n",
       " ('76766', 'Crick', '407-517-2335', 'Cell'),\n",
       " ('76766', 'Crick', '418-409-7638', 'Office'),\n",
       " ('83821', 'Brandt', '559-565-8598', 'Cell'),\n",
       " ('83821', 'Brandt', '973-587-6940', 'Office'),\n",
       " ('98345', 'Kim', '548-012-7539', 'Office'),\n",
       " ('98345', 'Kim', '804-869-1214', 'Cell')]"
      ]
     },
     "execution_count": 80,
     "metadata": {},
     "output_type": "execute_result"
    }
   ],
   "source": [
    "%%sql\n",
    "SELECT instructor.ID, instructor.name, phone.phone_number, phone.location \n",
    "FROM instructor\n",
    "LEFT JOIN phone_inst ON instructor.ID = phone_inst.ID\n",
    "LEFT JOIN phone ON phone_inst.phone_number = phone.phone_number\n",
    "WHERE location = 'Office';"
   ]
  },
  {
   "cell_type": "code",
   "execution_count": 76,
   "id": "extraordinary-credits",
   "metadata": {
    "slideshow": {
     "slide_type": "skip"
    },
    "tags": [
     "remove_cell"
    ]
   },
   "outputs": [
    {
     "name": "stdout",
     "output_type": "stream",
     "text": [
      " * sqlite:///resources/sql.db\n",
      "Done.\n",
      "|    ID | name       | phone_number   | location   |\n",
      "|------:|:-----------|:---------------|:-----------|\n",
      "| 10101 | Srinivasan | 999-113-1268   | Office     |\n",
      "| 12121 | Wu         | 761-856-0718   | Office     |\n",
      "| 15151 | Mozart     | 274-715-6841   | Office     |\n",
      "| 22222 | Einstein   | 727-780-1695   | Office     |\n",
      "| 32343 | El Said    | 118-354-8109   | Office     |\n",
      "| 33456 | Gold       | 589-847-6616   | Office     |\n",
      "| 45565 | Katz       | 740-333-3446   | Office     |\n",
      "| 58583 | Califieri  | 749-361-2350   | Office     |\n",
      "| 76543 | Singh      | 856-262-2788   | Office     |\n",
      "| 76766 | Crick      | 418-409-7638   | Office     |\n",
      "| 83821 | Brandt     | 973-587-6940   | Office     |\n",
      "| 98345 | Kim        | 548-012-7539   | Office     |\n"
     ]
    }
   ],
   "source": [
    "query = \"\"\"SELECT instructor.ID, instructor.name, phone.phone_number, phone.location \n",
    "FROM instructor\n",
    "LEFT JOIN phone_inst ON instructor.ID = phone_inst.ID\n",
    "LEFT JOIN phone ON phone_inst.phone_number = phone.phone_number\n",
    "WHERE location = 'Office';\"\"\"\n",
    "query_res = %sql $query\n",
    "query_res = query_res.DataFrame()\n",
    "print(query_res.to_markdown(index=False))"
   ]
  },
  {
   "cell_type": "markdown",
   "id": "indian-gardening",
   "metadata": {
    "slideshow": {
     "slide_type": "slide"
    }
   },
   "source": [
    "### Updated records\n",
    "\n",
    "Show the instructor IDs, names, and _Office_ phone numbers\n",
    "\n",
    "#### Query\n",
    "\n",
    "```sql\n",
    "SELECT instructor.ID, instructor.name, phone.phone_number, phone.location \n",
    "FROM instructor\n",
    "LEFT JOIN phone_inst ON instructor.ID = phone_inst.ID\n",
    "LEFT JOIN phone ON phone_inst.phone_number = phone.phone_number\n",
    "WHERE location = 'Office';\n",
    "```"
   ]
  },
  {
   "cell_type": "markdown",
   "id": "exact-cricket",
   "metadata": {
    "slideshow": {
     "slide_type": "fragment"
    }
   },
   "source": [
    "#### Result\n",
    "\n",
    "|    ID | name       | phone_number   | location   |\n",
    "|------:|:-----------|:---------------|:-----------|\n",
    "| 10101 | Srinivasan | 999-113-1268   | Office     |\n",
    "| 12121 | Wu         | 761-856-0718   | Office     |\n",
    "| 15151 | Mozart     | 274-715-6841   | Office     |\n",
    "| 22222 | Einstein   | 727-780-1695   | Office     |\n",
    "| 32343 | El Said    | 118-354-8109   | Office     |\n",
    "| 33456 | Gold       | 589-847-6616   | Office     |\n",
    "| 45565 | Katz       | 740-333-3446   | Office     |\n",
    "| 58583 | Califieri  | 749-361-2350   | Office     |\n",
    "| 76543 | Singh      | 856-262-2788   | Office     |\n",
    "| 76766 | Crick      | 418-409-7638   | Office     |\n",
    "| 83821 | Brandt     | 973-587-6940   | Office     |\n",
    "| 98345 | Kim        | 548-012-7539   | Office     |"
   ]
  }
 ],
 "metadata": {
  "kernelspec": {
   "display_name": "Python 3",
   "language": "python",
   "name": "python3"
  },
  "language_info": {
   "codemirror_mode": {
    "name": "ipython",
    "version": 3
   },
   "file_extension": ".py",
   "mimetype": "text/x-python",
   "name": "python",
   "nbconvert_exporter": "python",
   "pygments_lexer": "ipython3",
   "version": "3.7.5"
  },
  "toc-showcode": false,
  "toc-showtags": false
 },
 "nbformat": 4,
 "nbformat_minor": 5
}
